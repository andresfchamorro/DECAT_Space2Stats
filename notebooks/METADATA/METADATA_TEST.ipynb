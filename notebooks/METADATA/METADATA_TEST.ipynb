{
 "cells": [
  {
   "cell_type": "code",
   "execution_count": 2,
   "id": "97bdb722",
   "metadata": {},
   "outputs": [],
   "source": [
    "import sys, os\n",
    "import rasterio\n",
    "import fio_stac\n",
    "import rio_stac\n",
    "\n",
    "import pandas as pd\n",
    "import geopandas as gpd\n",
    "\n",
    "sys.path.insert(0, \"C:/WBG/Work/Code/GOSTrocks/src\")\n",
    "import GOSTrocks.rasterMisc as rMisc\n",
    "import GOSTrocks.ntlMisc as ntl\n",
    "import GOSTrocks.mapMisc as mapMisc\n",
    "from GOSTrocks.misc import tPrint\n",
    "\n",
    "sys.path.append(\"../../src\")\n",
    "import h3_helper\n",
    "import country_zonal\n",
    "\n",
    "%load_ext autoreload\n",
    "%autoreload 2"
   ]
  },
  {
   "cell_type": "code",
   "execution_count": 3,
   "id": "54db6392",
   "metadata": {},
   "outputs": [
    {
     "name": "stderr",
     "output_type": "stream",
     "text": [
      "C:\\wbg\\Anaconda3\\envs\\urban_test\\Lib\\site-packages\\urllib3\\connectionpool.py:1100: InsecureRequestWarning: Unverified HTTPS request is being made to host 'globalnightlight.s3.amazonaws.com'. Adding certificate verification is strongly advised. See: https://urllib3.readthedocs.io/en/latest/advanced-usage.html#tls-warnings\n",
      "  warnings.warn(\n"
     ]
    }
   ],
   "source": [
    "# Get list of NTL files\n",
    "ntl_files = ntl.aws_search_ntl()\n",
    "local_test_file = r\"C:\\WBG\\Work\\data\\NTL\\VNL_npp_2023_global_vcmslcfg_v2_c202402081600.average.dat.tif\"\n",
    "\n",
    "test_file = ntl_files[0] #Idiot ITS cannot work with AWS data\n",
    "test_file = local_test_file"
   ]
  },
  {
   "cell_type": "code",
   "execution_count": 4,
   "id": "70cac2d6",
   "metadata": {},
   "outputs": [],
   "source": [
    "xx = rio_stac.stac.create_stac_item(test_file, \n",
    "                                   properties={\n",
    "                                       \"doi\":\"TBD\",\n",
    "                                       \"description\":\"TBD\",\n",
    "                                       \"link\":\"\",\n",
    "                                       \"title\":\"\"\n",
    "                                   })"
   ]
  },
  {
   "cell_type": "code",
   "execution_count": 6,
   "id": "4f81f37d",
   "metadata": {},
   "outputs": [],
   "source": [
    "xx.save_object(dest_href=f'{os.path.basename(test_file)[:-4]}.json')"
   ]
  },
  {
   "cell_type": "code",
   "execution_count": null,
   "id": "bbe5134b",
   "metadata": {},
   "outputs": [],
   "source": []
  }
 ],
 "metadata": {
  "kernelspec": {
   "display_name": "urban_test",
   "language": "python",
   "name": "urban_test"
  },
  "language_info": {
   "codemirror_mode": {
    "name": "ipython",
    "version": 3
   },
   "file_extension": ".py",
   "mimetype": "text/x-python",
   "name": "python",
   "nbconvert_exporter": "python",
   "pygments_lexer": "ipython3",
   "version": "3.12.2"
  }
 },
 "nbformat": 4,
 "nbformat_minor": 5
}
