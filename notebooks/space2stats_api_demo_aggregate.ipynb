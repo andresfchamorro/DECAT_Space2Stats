{
 "cells": [
  {
   "cell_type": "code",
   "execution_count": 1,
   "metadata": {},
   "outputs": [],
   "source": [
    "from typing import Dict\n",
    "\n",
    "import requests\n",
    "import pandas as pd\n",
    "from geojson_pydantic import Feature, Polygon"
   ]
  },
  {
   "cell_type": "code",
   "execution_count": 5,
   "metadata": {},
   "outputs": [],
   "source": [
    "BASE_URL = \"https://space2stats.ds.io\"\n",
    "FIELDS_ENDPOINT = f\"{BASE_URL}/fields\"\n",
    "SUMMARY_ENDPOINT = f\"{BASE_URL}/summary\""
   ]
  },
  {
   "cell_type": "code",
   "execution_count": 6,
   "metadata": {},
   "outputs": [],
   "source": [
    "AOIModel = Feature[Polygon, Dict]\n",
    "\n",
    "# ~kenya\n",
    "aoi = {\n",
    "    \"type\": \"Feature\",\n",
    "    \"geometry\": {\n",
    "        \"type\": \"Polygon\",\n",
    "        \"coordinates\": [\n",
    "            [\n",
    "                [33.78593974945852, 5.115816884114494],\n",
    "                [33.78593974945852, -4.725410543134203],\n",
    "                [41.94362577283266, -4.725410543134203],\n",
    "                [41.94362577283266, 5.115816884114494],\n",
    "                [33.78593974945852, 5.115816884114494]\n",
    "            ]\n",
    "        ]\n",
    "    },\n",
    "    \"properties\": {\n",
    "        \"name\": \"Updated AOI\"\n",
    "    }\n",
    "}\n",
    "          \n",
    "  \n",
    "\n",
    "feat = AOIModel(**aoi)"
   ]
  },
  {
   "cell_type": "code",
   "execution_count": 9,
   "metadata": {},
   "outputs": [
    {
     "data": {
      "text/html": [
       "<div>\n",
       "<style scoped>\n",
       "    .dataframe tbody tr th:only-of-type {\n",
       "        vertical-align: middle;\n",
       "    }\n",
       "\n",
       "    .dataframe tbody tr th {\n",
       "        vertical-align: top;\n",
       "    }\n",
       "\n",
       "    .dataframe thead th {\n",
       "        text-align: right;\n",
       "    }\n",
       "</style>\n",
       "<table border=\"1\" class=\"dataframe\">\n",
       "  <thead>\n",
       "    <tr style=\"text-align: right;\">\n",
       "      <th></th>\n",
       "      <th>hex_id</th>\n",
       "      <th>geometry</th>\n",
       "      <th>sum_pop_2020</th>\n",
       "    </tr>\n",
       "  </thead>\n",
       "  <tbody>\n",
       "    <tr>\n",
       "      <th>0</th>\n",
       "      <td>866a4a017ffffff</td>\n",
       "      <td>{'type': 'Point', 'coordinates': [37.844379308...</td>\n",
       "      <td>676.912804</td>\n",
       "    </tr>\n",
       "    <tr>\n",
       "      <th>1</th>\n",
       "      <td>866a4a01fffffff</td>\n",
       "      <td>{'type': 'Point', 'coordinates': [34.732706798...</td>\n",
       "      <td>347.182722</td>\n",
       "    </tr>\n",
       "    <tr>\n",
       "      <th>2</th>\n",
       "      <td>866a4a04fffffff</td>\n",
       "      <td>{'type': 'Point', 'coordinates': [38.771304043...</td>\n",
       "      <td>285.943490</td>\n",
       "    </tr>\n",
       "    <tr>\n",
       "      <th>3</th>\n",
       "      <td>866a4a057ffffff</td>\n",
       "      <td>{'type': 'Point', 'coordinates': [41.630359262...</td>\n",
       "      <td>279.463912</td>\n",
       "    </tr>\n",
       "    <tr>\n",
       "      <th>4</th>\n",
       "      <td>866a4a05fffffff</td>\n",
       "      <td>{'type': 'Point', 'coordinates': [39.038040116...</td>\n",
       "      <td>235.258474</td>\n",
       "    </tr>\n",
       "  </tbody>\n",
       "</table>\n",
       "</div>"
      ],
      "text/plain": [
       "            hex_id                                           geometry  \\\n",
       "0  866a4a017ffffff  {'type': 'Point', 'coordinates': [37.844379308...   \n",
       "1  866a4a01fffffff  {'type': 'Point', 'coordinates': [34.732706798...   \n",
       "2  866a4a04fffffff  {'type': 'Point', 'coordinates': [38.771304043...   \n",
       "3  866a4a057ffffff  {'type': 'Point', 'coordinates': [41.630359262...   \n",
       "4  866a4a05fffffff  {'type': 'Point', 'coordinates': [39.038040116...   \n",
       "\n",
       "   sum_pop_2020  \n",
       "0    676.912804  \n",
       "1    347.182722  \n",
       "2    285.943490  \n",
       "3    279.463912  \n",
       "4    235.258474  "
      ]
     },
     "execution_count": 9,
     "metadata": {},
     "output_type": "execute_result"
    }
   ],
   "source": [
    "# Define the Request Payload\n",
    "request_payload = {\n",
    "    \"aoi\": aoi,\n",
    "    \"spatial_join_method\": \"centroid\",\n",
    "    \"fields\": [\"sum_pop_2020\"], \n",
    "    \"geometry\": \"point\"\n",
    "}\n",
    "\n",
    "# Get Summary Data\n",
    "response = requests.post(SUMMARY_ENDPOINT, json=request_payload)\n",
    "if response.status_code != 200:\n",
    "    raise Exception(f\"Failed to get summary: {response.text}\")\n",
    "\n",
    "summary_data = response.json()\n",
    "df = pd.DataFrame(summary_data)\n",
    "df.head()"
   ]
  },
  {
   "cell_type": "markdown",
   "metadata": {},
   "source": [
    "### Aggregate Results\n",
    "\n",
    "In some cases, the analyst and researchers may be interested only in the summary statistics for the entire region of interest. In this section, we demonstrate how users can easily aggregate the values of the hexagons for their region of interest.\n",
    "\n",
    "\tWe strongly recommend being mindful of data that may be lost in this two-step aggregation process (raw data to H3 hexagons to aggregate information). Since each hexagon is given equal weight during aggregation, this can introduce inaccuracies for certain variables. For example, aggregating population data may be reasonable because each hexagon contributes equally to the total population. However, for other variables, such as ratios (e.g., the ratio of men to women), this approach may produce skewed results. The aggregated value may differ significantly compared to what you would get by aggregating the raw data directly. In such cases, it’s important to assess whether the variable should be aggregated at the hexagon level or if a different approach would yield more accurate results.\n",
    "\n"
   ]
  },
  {
   "cell_type": "code",
   "execution_count": 10,
   "metadata": {},
   "outputs": [
    {
     "name": "stdout",
     "output_type": "stream",
     "text": [
      "Mean population per hexagon: 2865.592428932978\n",
      "Total population for region: 73949478.22104442\n"
     ]
    }
   ],
   "source": [
    "mean_sum_pop_2020 = df['sum_pop_2020'].mean()\n",
    "total_pop_2020 = df['sum_pop_2020'].sum()\n",
    "print(f\"Mean population per hexagon: {mean_sum_pop_2020}\")\n",
    "print(f\"Total population for region: {total_pop_2020}\")"
   ]
  }
 ],
 "metadata": {
  "kernelspec": {
   "display_name": "Python 3 (ipykernel)",
   "language": "python",
   "name": "python3"
  },
  "language_info": {
   "codemirror_mode": {
    "name": "ipython",
    "version": 3
   },
   "file_extension": ".py",
   "mimetype": "text/x-python",
   "name": "python",
   "nbconvert_exporter": "python",
   "pygments_lexer": "ipython3",
   "version": "3.12.4"
  }
 },
 "nbformat": 4,
 "nbformat_minor": 4
}
