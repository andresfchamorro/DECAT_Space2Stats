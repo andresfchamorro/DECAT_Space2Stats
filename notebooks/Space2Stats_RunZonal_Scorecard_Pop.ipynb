{
 "cells": [
  {
   "cell_type": "markdown",
   "metadata": {},
   "source": [
    "# S2S Zonal statistics\n",
    "\n",
    "Zonal statistics are run on the standardized [H3 grid](https://h3geo.org/docs/core-library/restable/); the process is run on a country-by-country basis.\n",
    "\n",
    "For the zonal statistics, each zonal statistic is run against the source dataset as a whole, then it is stratified by urban classification from the European Commission - [GHS-SMOD](https://ghsl.jrc.ec.europa.eu/ghs_smod2019.php). This creates an summary dataset that has the standard zonal stats columns (SUM, MEAN, MAX, MIN) as well as the same for urban areas (SUM_urban, MEAN_urban, MAX_urban, MIN_urban)."
   ]
  },
  {
   "cell_type": "code",
   "execution_count": 1,
   "metadata": {
    "tags": [
     "hide-input"
    ]
   },
   "outputs": [
    {
     "name": "stderr",
     "output_type": "stream",
     "text": [
      "/home/wb411133/.conda/envs/ee/lib/python3.9/site-packages/geopandas/_compat.py:106: UserWarning: The Shapely GEOS version (3.9.1-CAPI-1.14.2) is incompatible with the GEOS version PyGEOS was compiled with (3.10.4-CAPI-1.16.2). Conversions between both will be slow.\n",
      "  warnings.warn(\n"
     ]
    }
   ],
   "source": [
    "import sys, os, importlib, math, multiprocessing\n",
    "import rasterio, geojson\n",
    "\n",
    "import pandas as pd\n",
    "import geopandas as gpd\n",
    "import numpy as np\n",
    "\n",
    "from h3 import h3\n",
    "from tqdm import tqdm\n",
    "from shapely.geometry import Polygon\n",
    "\n",
    "import GOSTRocks.rasterMisc as rMisc\n",
    "import GOSTRocks.ntlMisc as ntl\n",
    "#import GOSTRocks.mapMisc as mapMisc\n",
    "from GOSTRocks.misc import tPrint\n",
    "\n",
    "sys.path.append(\"../src\")\n",
    "import h3_helper\n",
    "import country_zonal\n",
    "\n",
    "%load_ext autoreload\n",
    "%autoreload 2"
   ]
  },
  {
   "cell_type": "code",
   "execution_count": 2,
   "metadata": {
    "tags": [
     "hide-input"
    ]
   },
   "outputs": [],
   "source": [
    "h3_level = 6\n",
    "\n",
    "admin_bounds = \"/home/public/Data/GLOBAL/ADMIN/ADMIN2/HighRes_20230328/shp/WB_GAD_ADM2.shp\"\n",
    "out_folder = f\"/home/wb411133/projects/Space2Stats/Population\"\n",
    "if not os.path.exists(out_folder):\n",
    "    os.makedirs(out_folder)\n",
    "global_urban = \"/home/public/Data/GLOBAL/GHSL/SMOD/GHS_SMOD_E2020_GLOBE_R2023A_54009_1000_V1_0.tif\""
   ]
  },
  {
   "cell_type": "markdown",
   "metadata": {},
   "source": [
    "## Run analysis on population by gender and age"
   ]
  },
  {
   "cell_type": "code",
   "execution_count": 3,
   "metadata": {
    "scrolled": true
   },
   "outputs": [],
   "source": [
    "population_folder = \"/home/public/Data/GLOBAL/Population/WorldPop_PPP_2020/GLOBAL_1km_Demographics\"\n",
    "pop_files = [os.path.join(population_folder, x) for x in os.listdir(population_folder) if x.endswith(\"1km.tif\")]"
   ]
  },
  {
   "cell_type": "code",
   "execution_count": 4,
   "metadata": {
    "tags": [
     "hide-input"
    ]
   },
   "outputs": [],
   "source": [
    "# get a list of h3 levels to process\n",
    "h3_0_list = h3_helper.generate_lvl0_lists(6, return_gdf=True, buffer0=False)"
   ]
  },
  {
   "cell_type": "code",
   "execution_count": 5,
   "metadata": {},
   "outputs": [],
   "source": [
    "AWS_S3_BUCKET = 'wbg-geography01'\n",
    "AWS_ACCESS_KEY_ID = os.getenv(\"AWS_ACCESS_KEY_ID\")\n",
    "AWS_SECRET_ACCESS_KEY = os.getenv(\"AWS_SECRET_ACCESS_KEY\")\n",
    "AWS_SESSION_TOKEN = os.getenv(\"AWS_SESSION_TOKEN\")\n",
    "\n",
    "def run_zonal(gdf, cur_raster_file, out_file):\n",
    "    cName = f'{os.path.basename(os.path.dirname(out_file))}-{os.path.basename(cur_raster_file)}'\n",
    "    tPrint(f'Starting {cName}')\n",
    "    res = rMisc.zonalStats(gdf, cur_raster_file, minVal=0)\n",
    "    res = pd.DataFrame(res, columns=['SUM', 'MIN', 'MAX', 'MEAN'])\n",
    "    res['id'] = gdf['shape_id'].values\n",
    "    res.to_csv(\n",
    "        f\"s3://{AWS_S3_BUCKET}/{out_file}\",\n",
    "        index=False,\n",
    "        storage_options={\n",
    "            \"key\": AWS_ACCESS_KEY_ID,\n",
    "            \"secret\": AWS_SECRET_ACCESS_KEY,\n",
    "            \"token\": AWS_SESSION_TOKEN,\n",
    "        },\n",
    "    )\n",
    "    #res.to_csv(out_file)\n",
    "    tPrint(f'**** finished {cName}')\n",
    "    return(res)\n",
    "    "
   ]
  },
  {
   "cell_type": "code",
   "execution_count": null,
   "metadata": {},
   "outputs": [
    {
     "name": "stdout",
     "output_type": "stream",
     "text": [
      "12:00:41\tRemaining: 2162\t Processed: 2230\n",
      "12:27:57\tRemaining: 1897\t Processed: 2495\n"
     ]
    }
   ],
   "source": [
    "\n",
    "# set up mp arguments\n",
    "arg_list = []\n",
    "processed_list = []\n",
    "keep_processing = True\n",
    "while keep_processing:\n",
    "    arg_list = []\n",
    "    processed_list = []\n",
    "    for h3_0_key, cur_gdf in h3_0_list.items():\n",
    "        for pop_file in pop_files:\n",
    "            filename = os.path.basename(f'{pop_file.replace(\".tif\", \"\")}_zonal.csv')\n",
    "            out_s3_key = f'Space2Stats/h3_stats_data/GLOBAL/WorldPop_2020_Demographics/{h3_0_key}/{filename}'\n",
    "            full_path = os.path.join(\"s3://\", AWS_S3_BUCKET, out_s3_key)        \n",
    "            try:\n",
    "                tempPD = pd.read_csv(full_path)\n",
    "                processed_list.append(filename)\n",
    "            except:\n",
    "                arg_list.append([cur_gdf, pop_file, out_s3_key])\n",
    "    keep_processing = len(arg_list) != 0\n",
    "    tPrint(f'Remaining: {len(arg_list)}\\t Processed: {len(processed_list)}')\n"
   ]
  },
  {
   "cell_type": "code",
   "execution_count": null,
   "metadata": {},
   "outputs": [],
   "source": [
    "for args in arg_list:\n",
    "    run_zonal(*args)"
   ]
  },
  {
   "cell_type": "code",
   "execution_count": null,
   "metadata": {},
   "outputs": [],
   "source": [
    "with multiprocessing.Pool(processes=min([70,len(arg_list)])) as pool:\n",
    "    results = pool.starmap(run_zonal, arg_list[:5])"
   ]
  },
  {
   "cell_type": "code",
   "execution_count": null,
   "metadata": {},
   "outputs": [],
   "source": [
    "rMisc.zonalStats?"
   ]
  },
  {
   "cell_type": "code",
   "execution_count": null,
   "metadata": {},
   "outputs": [],
   "source": [
    "arg_list[0][0]"
   ]
  },
  {
   "cell_type": "code",
   "execution_count": null,
   "metadata": {},
   "outputs": [],
   "source": []
  }
 ],
 "metadata": {
  "kernelspec": {
   "display_name": "Earth Engine",
   "language": "python",
   "name": "ee"
  },
  "language_info": {
   "codemirror_mode": {
    "name": "ipython",
    "version": 3
   },
   "file_extension": ".py",
   "mimetype": "text/x-python",
   "name": "python",
   "nbconvert_exporter": "python",
   "pygments_lexer": "ipython3",
   "version": "3.9.4"
  }
 },
 "nbformat": 4,
 "nbformat_minor": 2
}
