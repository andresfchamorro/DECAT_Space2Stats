{
 "cells": [
  {
   "cell_type": "markdown",
   "metadata": {},
   "source": [
    "# Generate H3 geospatial data on AWS bucket"
   ]
  },
  {
   "cell_type": "code",
   "execution_count": 1,
   "metadata": {},
   "outputs": [
    {
     "name": "stderr",
     "output_type": "stream",
     "text": [
      "/home/wb411133/.conda/envs/ee/lib/python3.9/site-packages/geopandas/_compat.py:106: UserWarning: The Shapely GEOS version (3.9.1-CAPI-1.14.2) is incompatible with the GEOS version PyGEOS was compiled with (3.10.4-CAPI-1.16.2). Conversions between both will be slow.\n",
      "  warnings.warn(\n"
     ]
    }
   ],
   "source": [
    "import sys, os, importlib, math, multiprocessing, boto3\n",
    "import rasterio, geojson\n",
    "\n",
    "import pandas as pd\n",
    "import geopandas as gpd\n",
    "import numpy as np\n",
    "\n",
    "from h3 import h3\n",
    "from tqdm import tqdm\n",
    "from shapely.geometry import Polygon\n",
    "\n",
    "sys.path.insert(0, \"/home/wb411133/Code/gostrocks/src\")\n",
    "import GOSTRocks.rasterMisc as rMisc\n",
    "import GOSTRocks.ntlMisc as ntl\n",
    "import GOSTRocks.mapMisc as mapMisc\n",
    "from GOSTRocks.misc import tPrint\n",
    "\n",
    "sys.path.append(\"../src\")\n",
    "import h3_helper\n",
    "import country_zonal\n",
    "\n",
    "%load_ext autoreload\n",
    "%autoreload 2"
   ]
  },
  {
   "cell_type": "code",
   "execution_count": 2,
   "metadata": {},
   "outputs": [],
   "source": [
    "# Define S3 parameters\n",
    "bucket = 'wbg-geography01' \n",
    "prefix = 'Space2Stats/h3_spatial_data'\n",
    "region = 'us-east-1'\n",
    "s3client = boto3.client('s3', region_name=region)\n",
    "out_folder = \"/home/wb411133/projects/Space2Stats/\""
   ]
  },
  {
   "cell_type": "code",
   "execution_count": 3,
   "metadata": {},
   "outputs": [
    {
     "data": {
      "text/html": [
       "<div>\n",
       "<style scoped>\n",
       "    .dataframe tbody tr th:only-of-type {\n",
       "        vertical-align: middle;\n",
       "    }\n",
       "\n",
       "    .dataframe tbody tr th {\n",
       "        vertical-align: top;\n",
       "    }\n",
       "\n",
       "    .dataframe thead th {\n",
       "        text-align: right;\n",
       "    }\n",
       "</style>\n",
       "<table border=\"1\" class=\"dataframe\">\n",
       "  <thead>\n",
       "    <tr style=\"text-align: right;\">\n",
       "      <th></th>\n",
       "      <th>ISO_A3</th>\n",
       "      <th>ISO_A2</th>\n",
       "      <th>WB_A3</th>\n",
       "      <th>HASC_0</th>\n",
       "      <th>GAUL_0</th>\n",
       "      <th>WB_REGION</th>\n",
       "      <th>WB_STATUS</th>\n",
       "      <th>SOVEREIGN</th>\n",
       "      <th>NAM_0</th>\n",
       "      <th>geometry</th>\n",
       "      <th>ID</th>\n",
       "    </tr>\n",
       "  </thead>\n",
       "  <tbody>\n",
       "    <tr>\n",
       "      <th>0</th>\n",
       "      <td>AFG</td>\n",
       "      <td>AF</td>\n",
       "      <td>AFG</td>\n",
       "      <td>AF</td>\n",
       "      <td>1</td>\n",
       "      <td>SAR</td>\n",
       "      <td>Member State</td>\n",
       "      <td>AFG</td>\n",
       "      <td>Afghanistan</td>\n",
       "      <td>POLYGON ((70.04663 37.54360, 70.04676 37.54356...</td>\n",
       "      <td>0</td>\n",
       "    </tr>\n",
       "    <tr>\n",
       "      <th>1</th>\n",
       "      <td>ALB</td>\n",
       "      <td>AL</td>\n",
       "      <td>ALB</td>\n",
       "      <td>AL</td>\n",
       "      <td>3</td>\n",
       "      <td>ECA</td>\n",
       "      <td>Member State</td>\n",
       "      <td>ALB</td>\n",
       "      <td>Albania</td>\n",
       "      <td>MULTIPOLYGON (((20.46186 41.55588, 20.46177 41...</td>\n",
       "      <td>1</td>\n",
       "    </tr>\n",
       "    <tr>\n",
       "      <th>2</th>\n",
       "      <td>AND</td>\n",
       "      <td>AD</td>\n",
       "      <td>ADO</td>\n",
       "      <td>AD</td>\n",
       "      <td>7</td>\n",
       "      <td>Other</td>\n",
       "      <td>Member State</td>\n",
       "      <td>AND</td>\n",
       "      <td>Andorra</td>\n",
       "      <td>POLYGON ((1.46171 42.50602, 1.46176 42.50605, ...</td>\n",
       "      <td>2</td>\n",
       "    </tr>\n",
       "    <tr>\n",
       "      <th>3</th>\n",
       "      <td>ARE</td>\n",
       "      <td>AE</td>\n",
       "      <td>ARE</td>\n",
       "      <td>AE</td>\n",
       "      <td>255</td>\n",
       "      <td>MENA</td>\n",
       "      <td>Member State</td>\n",
       "      <td>ARE</td>\n",
       "      <td>United Arab Emirates</td>\n",
       "      <td>MULTIPOLYGON (((53.83064 24.06414, 53.82975 24...</td>\n",
       "      <td>3</td>\n",
       "    </tr>\n",
       "    <tr>\n",
       "      <th>4</th>\n",
       "      <td>ARG</td>\n",
       "      <td>AR</td>\n",
       "      <td>ARG</td>\n",
       "      <td>AR</td>\n",
       "      <td>12</td>\n",
       "      <td>LCR</td>\n",
       "      <td>Member State</td>\n",
       "      <td>ARG</td>\n",
       "      <td>Argentina</td>\n",
       "      <td>MULTIPOLYGON (((-58.43833 -34.00238, -58.44420...</td>\n",
       "      <td>4</td>\n",
       "    </tr>\n",
       "  </tbody>\n",
       "</table>\n",
       "</div>"
      ],
      "text/plain": [
       "  ISO_A3 ISO_A2 WB_A3 HASC_0  GAUL_0 WB_REGION     WB_STATUS SOVEREIGN  \\\n",
       "0    AFG     AF   AFG     AF       1       SAR  Member State       AFG   \n",
       "1    ALB     AL   ALB     AL       3       ECA  Member State       ALB   \n",
       "2    AND     AD   ADO     AD       7     Other  Member State       AND   \n",
       "3    ARE     AE   ARE     AE     255      MENA  Member State       ARE   \n",
       "4    ARG     AR   ARG     AR      12       LCR  Member State       ARG   \n",
       "\n",
       "                  NAM_0                                           geometry  ID  \n",
       "0           Afghanistan  POLYGON ((70.04663 37.54360, 70.04676 37.54356...   0  \n",
       "1               Albania  MULTIPOLYGON (((20.46186 41.55588, 20.46177 41...   1  \n",
       "2               Andorra  POLYGON ((1.46171 42.50602, 1.46176 42.50605, ...   2  \n",
       "3  United Arab Emirates  MULTIPOLYGON (((53.83064 24.06414, 53.82975 24...   3  \n",
       "4             Argentina  MULTIPOLYGON (((-58.43833 -34.00238, -58.44420...   4  "
      ]
     },
     "execution_count": 3,
     "metadata": {},
     "output_type": "execute_result"
    }
   ],
   "source": [
    "admin_bounds = \"/home/public/Data/GLOBAL/ADMIN/ADMIN2/HighRes_20230328/shp/WB_GAD_ADM0.shp\"\n",
    "inA = gpd.read_file(admin_bounds)\n",
    "inA['ID'] = inA.index\n",
    "inA.head()"
   ]
  },
  {
   "cell_type": "code",
   "execution_count": 4,
   "metadata": {
    "scrolled": true
   },
   "outputs": [
    {
     "name": "stdout",
     "output_type": "stream",
     "text": [
      "Space2Stats/h3_spatial_data/SAR/AFG\n",
      "Space2Stats/h3_spatial_data/ECA/ALB\n",
      "Space2Stats/h3_spatial_data/Other/AND\n",
      "Space2Stats/h3_spatial_data/MENA/ARE\n",
      "Space2Stats/h3_spatial_data/LCR/ARG\n",
      "Space2Stats/h3_spatial_data/ECA/ARM\n",
      "Space2Stats/h3_spatial_data/LCR/ATG\n",
      "Space2Stats/h3_spatial_data/Other/AUS\n",
      "Space2Stats/h3_spatial_data/Other/AUS\n",
      "Space2Stats/h3_spatial_data/Other/CXR\n",
      "Space2Stats/h3_spatial_data/Other/CCK\n",
      "Space2Stats/h3_spatial_data/Other/HMD\n",
      "Space2Stats/h3_spatial_data/Other/NFK\n",
      "Space2Stats/h3_spatial_data/Other/AUT\n",
      "Space2Stats/h3_spatial_data/ECA/AZE\n",
      "Space2Stats/h3_spatial_data/AFR/BDI\n",
      "Space2Stats/h3_spatial_data/Other/BEL\n",
      "Space2Stats/h3_spatial_data/AFR/BEN\n",
      "Space2Stats/h3_spatial_data/AFR/BFA\n",
      "Space2Stats/h3_spatial_data/SAR/BGD\n",
      "Space2Stats/h3_spatial_data/ECA/BGR\n",
      "Space2Stats/h3_spatial_data/MENA/BHR\n",
      "Space2Stats/h3_spatial_data/LCR/BHS\n",
      "Space2Stats/h3_spatial_data/ECA/BIH\n",
      "Space2Stats/h3_spatial_data/ECA/BLR\n",
      "Space2Stats/h3_spatial_data/LCR/BLZ\n",
      "Space2Stats/h3_spatial_data/LCR/BOL\n",
      "Space2Stats/h3_spatial_data/LCR/BRA\n",
      "Space2Stats/h3_spatial_data/LCR/BRB\n",
      "Space2Stats/h3_spatial_data/Other/BRN\n",
      "Space2Stats/h3_spatial_data/SAR/BTN\n",
      "Space2Stats/h3_spatial_data/AFR/BWA\n",
      "Space2Stats/h3_spatial_data/AFR/CAF\n",
      "Space2Stats/h3_spatial_data/Other/CAN\n",
      "Space2Stats/h3_spatial_data/Other/CHE\n",
      "Space2Stats/h3_spatial_data/LCR/CHL\n",
      "Space2Stats/h3_spatial_data/EAP/MAC\n",
      "Space2Stats/h3_spatial_data/EAP/HKG\n",
      "Space2Stats/h3_spatial_data/EAP/CHN\n",
      "Space2Stats/h3_spatial_data/EAP/TWN\n",
      "Space2Stats/h3_spatial_data/AFR/CIV\n",
      "Space2Stats/h3_spatial_data/AFR/CMR\n",
      "Space2Stats/h3_spatial_data/AFR/COD\n",
      "Space2Stats/h3_spatial_data/AFR/COG\n",
      "Space2Stats/h3_spatial_data/AFR/COM\n",
      "Space2Stats/h3_spatial_data/AFR/CPV\n",
      "Space2Stats/h3_spatial_data/LCR/CRI\n",
      "Space2Stats/h3_spatial_data/Other/CUB\n",
      "Space2Stats/h3_spatial_data/ECA/CYP\n",
      "Space2Stats/h3_spatial_data/ECA/CZE\n",
      "Space2Stats/h3_spatial_data/Other/DEU\n",
      "Space2Stats/h3_spatial_data/LCR/DMA\n",
      "Space2Stats/h3_spatial_data/Other/DNK\n",
      "Space2Stats/h3_spatial_data/Other/FRO\n",
      "Space2Stats/h3_spatial_data/Other/GRL\n",
      "Space2Stats/h3_spatial_data/LCR/DOM\n",
      "Space2Stats/h3_spatial_data/MENA/DZA\n",
      "Space2Stats/h3_spatial_data/LCR/ECU\n",
      "Space2Stats/h3_spatial_data/MENA/EGY\n",
      "Space2Stats/h3_spatial_data/AFR/ERI\n",
      "Space2Stats/h3_spatial_data/Other/ESP\n",
      "Space2Stats/h3_spatial_data/Other/ESP\n",
      "Space2Stats/h3_spatial_data/ECA/EST\n",
      "Space2Stats/h3_spatial_data/Other/ALA\n",
      "Space2Stats/h3_spatial_data/Other/FIN\n",
      "Space2Stats/h3_spatial_data/EAP/FJI\n",
      "Space2Stats/h3_spatial_data/Other/FRA\n",
      "Space2Stats/h3_spatial_data/Other/FRA\n",
      "Space2Stats/h3_spatial_data/Other/GUF\n",
      "Space2Stats/h3_spatial_data/Other/PYF\n",
      "Space2Stats/h3_spatial_data/Other/ATF\n",
      "Space2Stats/h3_spatial_data/Other/GLP\n",
      "Space2Stats/h3_spatial_data/Other/MTQ\n",
      "Space2Stats/h3_spatial_data/Other/MYT\n",
      "Space2Stats/h3_spatial_data/Other/NCL\n",
      "Space2Stats/h3_spatial_data/Other/REU\n",
      "Space2Stats/h3_spatial_data/Other/SPM\n",
      "Space2Stats/h3_spatial_data/Other/WLF\n",
      "Space2Stats/h3_spatial_data/Other/BLM\n",
      "Space2Stats/h3_spatial_data/Other/MAF\n",
      "Space2Stats/h3_spatial_data/EAP/FSM\n",
      "Space2Stats/h3_spatial_data/AFR/GAB\n",
      "Space2Stats/h3_spatial_data/Other/AIA\n",
      "Space2Stats/h3_spatial_data/Other/BMU\n",
      "Space2Stats/h3_spatial_data/Other/IOT\n",
      "Space2Stats/h3_spatial_data/Other/VGB\n",
      "Space2Stats/h3_spatial_data/Other/CYM\n",
      "Space2Stats/h3_spatial_data/Other/GIB\n",
      "Space2Stats/h3_spatial_data/Other/GGY\n",
      "Space2Stats/h3_spatial_data/Other/IMN\n",
      "Space2Stats/h3_spatial_data/Other/JEY\n",
      "Space2Stats/h3_spatial_data/Other/MSR\n",
      "Space2Stats/h3_spatial_data/Other/PCN\n",
      "Space2Stats/h3_spatial_data/Other/SHN\n",
      "Space2Stats/h3_spatial_data/Other/TCA\n",
      "Space2Stats/h3_spatial_data/Other/GBR\n",
      "Space2Stats/h3_spatial_data/Other/GBR\n",
      "Space2Stats/h3_spatial_data/ECA/GEO\n",
      "Space2Stats/h3_spatial_data/AFR/GIN\n",
      "Space2Stats/h3_spatial_data/AFR/GMB\n",
      "Space2Stats/h3_spatial_data/AFR/GNB\n",
      "Space2Stats/h3_spatial_data/AFR/GNQ\n",
      "Space2Stats/h3_spatial_data/Other/GRC\n",
      "Space2Stats/h3_spatial_data/LCR/GRD\n",
      "Space2Stats/h3_spatial_data/LCR/GTM\n",
      "Space2Stats/h3_spatial_data/LCR/GUY\n",
      "Space2Stats/h3_spatial_data/LCR/HND\n",
      "Space2Stats/h3_spatial_data/ECA/HRV\n",
      "Space2Stats/h3_spatial_data/ECA/HUN\n",
      "Space2Stats/h3_spatial_data/EAP/IDN\n",
      "Space2Stats/h3_spatial_data/SAR/IND\n",
      "Space2Stats/h3_spatial_data/SAR/IND\n",
      "Space2Stats/h3_spatial_data/Other/IRL\n",
      "Space2Stats/h3_spatial_data/MENA/IRN\n",
      "Space2Stats/h3_spatial_data/Other/ISL\n",
      "Space2Stats/h3_spatial_data/Other/ISR\n",
      "Space2Stats/h3_spatial_data/Other/ITA\n",
      "Space2Stats/h3_spatial_data/LCR/JAM\n",
      "Space2Stats/h3_spatial_data/MENA/JOR\n",
      "Space2Stats/h3_spatial_data/Other/JPN\n",
      "Space2Stats/h3_spatial_data/ECA/KAZ\n",
      "Space2Stats/h3_spatial_data/ECA/KGZ\n",
      "Space2Stats/h3_spatial_data/EAP/KIR\n",
      "Space2Stats/h3_spatial_data/LCR/KNA\n",
      "Space2Stats/h3_spatial_data/EAP/KOR\n",
      "Space2Stats/h3_spatial_data/ECA/KSV\n",
      "Space2Stats/h3_spatial_data/MENA/KWT\n",
      "Space2Stats/h3_spatial_data/EAP/LAO\n",
      "Space2Stats/h3_spatial_data/AFR/LBR\n",
      "Space2Stats/h3_spatial_data/MENA/LBY\n",
      "Space2Stats/h3_spatial_data/LCR/LCA\n",
      "Space2Stats/h3_spatial_data/Other/LIE\n",
      "Space2Stats/h3_spatial_data/SAR/LKA\n",
      "Space2Stats/h3_spatial_data/AFR/LSO\n",
      "Space2Stats/h3_spatial_data/ECA/LTU\n",
      "Space2Stats/h3_spatial_data/Other/LUX\n",
      "Space2Stats/h3_spatial_data/ECA/LVA\n",
      "Space2Stats/h3_spatial_data/MENA/MAR\n",
      "Space2Stats/h3_spatial_data/Other/MCO\n",
      "Space2Stats/h3_spatial_data/AFR/MDG\n",
      "Space2Stats/h3_spatial_data/SAR/MDV\n",
      "Space2Stats/h3_spatial_data/EAP/MHL\n",
      "Space2Stats/h3_spatial_data/ECA/MKD\n",
      "Space2Stats/h3_spatial_data/AFR/MLI\n",
      "Space2Stats/h3_spatial_data/MENA/MLT\n",
      "Space2Stats/h3_spatial_data/EAP/MMR\n",
      "Space2Stats/h3_spatial_data/ECA/MNE\n",
      "Space2Stats/h3_spatial_data/EAP/MNG\n",
      "Space2Stats/h3_spatial_data/AFR/MRT\n",
      "Space2Stats/h3_spatial_data/AFR/MUS\n",
      "Space2Stats/h3_spatial_data/AFR/MWI\n",
      "Space2Stats/h3_spatial_data/EAP/MYS\n",
      "Space2Stats/h3_spatial_data/AFR/NAM\n",
      "Space2Stats/h3_spatial_data/AFR/NGA\n",
      "Space2Stats/h3_spatial_data/LCR/NIC\n",
      "Space2Stats/h3_spatial_data/Other/ABW\n",
      "Space2Stats/h3_spatial_data/Other/NLD\n",
      "Space2Stats/h3_spatial_data/Other/BES\n",
      "Space2Stats/h3_spatial_data/Other/CUW\n",
      "Space2Stats/h3_spatial_data/Other/BES\n",
      "Space2Stats/h3_spatial_data/Other/BES\n",
      "Space2Stats/h3_spatial_data/Other/SXM\n",
      "Space2Stats/h3_spatial_data/Other/BVT\n",
      "Space2Stats/h3_spatial_data/Other/NOR\n",
      "Space2Stats/h3_spatial_data/Other/SJM\n",
      "Space2Stats/h3_spatial_data/SAR/NPL\n",
      "Space2Stats/h3_spatial_data/EAP/NRU\n",
      "Space2Stats/h3_spatial_data/Other/COK\n",
      "Space2Stats/h3_spatial_data/Other/NZL\n",
      "Space2Stats/h3_spatial_data/Other/NIU\n",
      "Space2Stats/h3_spatial_data/Other/TKL\n",
      "Space2Stats/h3_spatial_data/MENA/OMN\n",
      "Space2Stats/h3_spatial_data/SAR/PAK\n",
      "Space2Stats/h3_spatial_data/SAR/PAK\n",
      "Space2Stats/h3_spatial_data/LCR/PAN\n",
      "Space2Stats/h3_spatial_data/LCR/PER\n",
      "Space2Stats/h3_spatial_data/EAP/PHL\n",
      "Space2Stats/h3_spatial_data/EAP/PLW\n",
      "Space2Stats/h3_spatial_data/EAP/PNG\n",
      "Space2Stats/h3_spatial_data/ECA/POL\n",
      "Space2Stats/h3_spatial_data/Other/PRK\n",
      "Space2Stats/h3_spatial_data/Other/PRT\n",
      "Space2Stats/h3_spatial_data/Other/PRT\n",
      "Space2Stats/h3_spatial_data/Other/PRT\n",
      "Space2Stats/h3_spatial_data/LCR/PRY\n",
      "Space2Stats/h3_spatial_data/MENA/PSE\n",
      "Space2Stats/h3_spatial_data/MENA/QAT\n",
      "Space2Stats/h3_spatial_data/ECA/ROU\n",
      "Space2Stats/h3_spatial_data/ECA/RUS\n",
      "Space2Stats/h3_spatial_data/AFR/RWA\n",
      "Space2Stats/h3_spatial_data/MENA/SAU\n",
      "Space2Stats/h3_spatial_data/AFR/SDN\n",
      "Space2Stats/h3_spatial_data/AFR/SEN\n",
      "Space2Stats/h3_spatial_data/Other/SGP\n",
      "Space2Stats/h3_spatial_data/EAP/SLB\n",
      "Space2Stats/h3_spatial_data/LCR/SLV\n",
      "Space2Stats/h3_spatial_data/Other/SMR\n",
      "Space2Stats/h3_spatial_data/AFR/SOM\n",
      "Space2Stats/h3_spatial_data/ECA/SRB\n",
      "Space2Stats/h3_spatial_data/AFR/STP\n",
      "Space2Stats/h3_spatial_data/LCR/SUR\n",
      "Space2Stats/h3_spatial_data/ECA/SVK\n",
      "Space2Stats/h3_spatial_data/ECA/SVN\n",
      "Space2Stats/h3_spatial_data/Other/SWE\n",
      "Space2Stats/h3_spatial_data/AFR/SWZ\n",
      "Space2Stats/h3_spatial_data/AFR/SYC\n",
      "Space2Stats/h3_spatial_data/MENA/SYR\n",
      "Space2Stats/h3_spatial_data/AFR/TCD\n",
      "Space2Stats/h3_spatial_data/AFR/TGO\n",
      "Space2Stats/h3_spatial_data/EAP/THA\n",
      "Space2Stats/h3_spatial_data/ECA/TJK\n",
      "Space2Stats/h3_spatial_data/ECA/TKM\n",
      "Space2Stats/h3_spatial_data/EAP/TLS\n",
      "Space2Stats/h3_spatial_data/EAP/TON\n",
      "Space2Stats/h3_spatial_data/LCR/TTO\n",
      "Space2Stats/h3_spatial_data/MENA/TUN\n",
      "Space2Stats/h3_spatial_data/ECA/TUR\n",
      "Space2Stats/h3_spatial_data/EAP/TUV\n",
      "Space2Stats/h3_spatial_data/AFR/TZA\n",
      "Space2Stats/h3_spatial_data/AFR/UGA\n",
      "Space2Stats/h3_spatial_data/ECA/UKR\n",
      "Space2Stats/h3_spatial_data/LCR/URY\n",
      "Space2Stats/h3_spatial_data/Other/ASM\n",
      "Space2Stats/h3_spatial_data/Other/UMI\n",
      "Space2Stats/h3_spatial_data/Other/GUM\n",
      "Space2Stats/h3_spatial_data/Other/UMI\n",
      "Space2Stats/h3_spatial_data/Other/UMI\n",
      "Space2Stats/h3_spatial_data/Other/UMI\n",
      "Space2Stats/h3_spatial_data/Other/UMI\n",
      "Space2Stats/h3_spatial_data/Other/UMI\n",
      "Space2Stats/h3_spatial_data/Other/MNP\n",
      "Space2Stats/h3_spatial_data/Other/UMI\n",
      "Space2Stats/h3_spatial_data/Other/PRI\n",
      "Space2Stats/h3_spatial_data/Other/VIR\n",
      "Space2Stats/h3_spatial_data/Other/USA\n",
      "Space2Stats/h3_spatial_data/Other/UMI\n",
      "Space2Stats/h3_spatial_data/ECA/UZB\n",
      "Space2Stats/h3_spatial_data/Other/VAT\n",
      "Space2Stats/h3_spatial_data/LCR/VCT\n",
      "Space2Stats/h3_spatial_data/LCR/VEN\n",
      "Space2Stats/h3_spatial_data/EAP/VNM\n",
      "Space2Stats/h3_spatial_data/EAP/VUT\n",
      "Space2Stats/h3_spatial_data/EAP/WSM\n",
      "Space2Stats/h3_spatial_data/MENA/YEM\n",
      "Space2Stats/h3_spatial_data/AFR/ZAF\n",
      "Space2Stats/h3_spatial_data/AFR/ZMB\n",
      "Space2Stats/h3_spatial_data/AFR/ZWE\n",
      "Space2Stats/h3_spatial_data/AFR/AGO\n",
      "Space2Stats/h3_spatial_data/ECA/MDA\n",
      "Space2Stats/h3_spatial_data/AFR/MOZ\n",
      "Space2Stats/h3_spatial_data/EAP/KHM\n",
      "Space2Stats/h3_spatial_data/AFR/SLE\n",
      "Space2Stats/h3_spatial_data/MENA/LBN\n",
      "Space2Stats/h3_spatial_data/LCR/COL\n",
      "Space2Stats/h3_spatial_data/AFR/GHA\n",
      "Space2Stats/h3_spatial_data/AFR/ETH\n",
      "Space2Stats/h3_spatial_data/LCR/HTI\n",
      "Space2Stats/h3_spatial_data/MENA/IRQ\n",
      "Space2Stats/h3_spatial_data/AFR/NER\n",
      "Space2Stats/h3_spatial_data/MENA/DJI\n",
      "Space2Stats/h3_spatial_data/AFR/KEN\n",
      "Space2Stats/h3_spatial_data/AFR/SSD\n",
      "Space2Stats/h3_spatial_data/LCR/MEX\n"
     ]
    }
   ],
   "source": [
    "all_args = []\n",
    "h3_level = 6\n",
    "\n",
    "for idx, row in inA.iterrows():\n",
    "    cur_prefix = os.path.join(prefix, row['WB_REGION'], row['ISO_A3'])\n",
    "    '''\n",
    "    out_file = f's3://{bucket}/{cur_prefix}/h3_level_{h3_level}.geojson'\n",
    "    try:\n",
    "        xx = gpd.read_file(out_file)\n",
    "    except:\n",
    "        print(out_file)\n",
    "    '''\n",
    "    print(cur_prefix)\n",
    "    all_args.append([row, h3_level])\n",
    "    "
   ]
  },
  {
   "cell_type": "code",
   "execution_count": 5,
   "metadata": {
    "scrolled": true
   },
   "outputs": [],
   "source": [
    "def generate_grid(row, lvl):\n",
    "    cur_prefix = os.path.join(prefix, row['WB_REGION'], row['ISO_A3'])\n",
    "    out_file = f's3://{bucket}/{cur_prefix}/h3_level_{lvl}.geojson'\n",
    "    tPrint(f\"Starting {cur_prefix}\")    \n",
    "    cur_gpd = gpd.GeoDataFrame(pd.DataFrame(row).transpose(), geometry='geometry', crs=inA.crs)\n",
    "    zonalC = country_zonal.country_h3_zonal(row['ISO_A3'], cur_gpd, \"ID\", lvl, out_folder)\n",
    "    try:\n",
    "        h3_grid = zonalC.generate_h3_grid()\n",
    "        h3_grid.to_file(out_file, driver=\"GeoJSON\")\n",
    "        tPrint(f\"Completed {cur_prefix}\")\n",
    "        return(h3_grid)\n",
    "    except:\n",
    "        tPrint(f\"Error processing lvl {lvl} for {row['ISO_A3']}\")\n",
    "\n"
   ]
  },
  {
   "cell_type": "code",
   "execution_count": null,
   "metadata": {
    "scrolled": true
   },
   "outputs": [
    {
     "name": "stdout",
     "output_type": "stream",
     "text": [
      "14:19:51\tStarting Space2Stats/h3_spatial_data/ECA/ALB14:19:51\tStarting Space2Stats/h3_spatial_data/Other/AND\n",
      "\n",
      "14:19:51\tStarting Space2Stats/h3_spatial_data/SAR/AFG\n",
      "14:19:51\tStarting Space2Stats/h3_spatial_data/MENA/ARE\n",
      "14:19:51\tStarting Space2Stats/h3_spatial_data/Other/AUS14:19:51\tStarting Space2Stats/h3_spatial_data/LCR/ATG\n",
      "\n",
      "14:19:51\tStarting Space2Stats/h3_spatial_data/ECA/ARM\n"
     ]
    },
    {
     "name": "stderr",
     "output_type": "stream",
     "text": [
      "Generating h3 grid level 5: 100%|██████████| 4/4 [00:00<00:00, 2587.88it/s]\n"
     ]
    },
    {
     "name": "stdout",
     "output_type": "stream",
     "text": [
      "14:19:51\tStarting Space2Stats/h3_spatial_data/LCR/ARG\n"
     ]
    },
    {
     "name": "stderr",
     "output_type": "stream",
     "text": [
      "Generating h3 grid level 5: 100%|██████████| 58/58 [00:00<00:00, 823.74it/s]\n",
      "Generating h3 grid level 5:   0%|          | 0/19 [00:00<?, ?it/s]"
     ]
    },
    {
     "name": "stdout",
     "output_type": "stream",
     "text": [
      "14:19:51\tStarting Space2Stats/h3_spatial_data/Other/HMD14:19:51\tStarting Space2Stats/h3_spatial_data/Other/CXR14:19:51\tStarting Space2Stats/h3_spatial_data/Other/CCK\n",
      "\n",
      "14:19:51\tStarting Space2Stats/h3_spatial_data/Other/NFK\n"
     ]
    },
    {
     "name": "stderr",
     "output_type": "stream",
     "text": [
      "Generating h3 grid level 5: 100%|██████████| 16/16 [00:00<00:00, 1909.32it/s]\n"
     ]
    },
    {
     "name": "stdout",
     "output_type": "stream",
     "text": [
      "14:19:51\tError processing lvl 5 for AUS\n"
     ]
    },
    {
     "name": "stderr",
     "output_type": "stream",
     "text": [
      "\r",
      "Generating h3 grid level 5:   0%|          | 0/42 [00:00<?, ?it/s]"
     ]
    },
    {
     "name": "stdout",
     "output_type": "stream",
     "text": [
      "14:19:51\tStarting Space2Stats/h3_spatial_data/Other/AUT\n"
     ]
    },
    {
     "name": "stderr",
     "output_type": "stream",
     "text": [
      "Generating h3 grid level 5: 100%|██████████| 42/42 [00:00<00:00, 2342.41it/s]\n",
      "Generating h3 grid level 5:   0%|          | 0/74 [00:00<?, ?it/s]"
     ]
    },
    {
     "name": "stdout",
     "output_type": "stream",
     "text": [
      "14:19:51\tStarting Space2Stats/h3_spatial_data/ECA/AZE\n",
      "14:19:51\tStarting Space2Stats/h3_spatial_data/AFR/BDI\n",
      "14:19:51\tStarting Space2Stats/h3_spatial_data/Other/BEL\n",
      "14:19:52\tStarting Space2Stats/h3_spatial_data/AFR/BEN\n",
      "14:19:52\tStarting Space2Stats/h3_spatial_data/Other/AUS\n"
     ]
    },
    {
     "name": "stderr",
     "output_type": "stream",
     "text": [
      "Generating h3 grid level 5: 100%|██████████| 74/74 [00:00<00:00, 1108.39it/s]\n"
     ]
    },
    {
     "name": "stdout",
     "output_type": "stream",
     "text": [
      "14:19:52\tStarting Space2Stats/h3_spatial_data/AFR/BFA\n",
      "14:19:52\tStarting Space2Stats/h3_spatial_data/MENA/BHR\n",
      "14:19:52\tStarting Space2Stats/h3_spatial_data/SAR/BGD\n",
      "14:19:52\tStarting Space2Stats/h3_spatial_data/ECA/BGR\n",
      "14:19:52\tStarting Space2Stats/h3_spatial_data/ECA/BIH\n",
      "14:19:52\tStarting Space2Stats/h3_spatial_data/LCR/BHS\n",
      "14:19:52\tError processing lvl 5 for NFK14:19:52\tStarting Space2Stats/h3_spatial_data/LCR/BLZ\n",
      "\n",
      "14:19:52\tStarting Space2Stats/h3_spatial_data/ECA/BLR\n",
      "14:19:52\tStarting Space2Stats/h3_spatial_data/LCR/BOL\n",
      "14:19:52\tError processing lvl 5 for CCK\n"
     ]
    },
    {
     "name": "stderr",
     "output_type": "stream",
     "text": [
      "\r",
      "Generating h3 grid level 5:   0%|          | 0/97 [00:00<?, ?it/s]"
     ]
    },
    {
     "name": "stdout",
     "output_type": "stream",
     "text": [
      "14:19:52\tStarting Space2Stats/h3_spatial_data/LCR/BRB\n",
      "14:19:52\tStarting Space2Stats/h3_spatial_data/Other/BRN\n"
     ]
    },
    {
     "name": "stderr",
     "output_type": "stream",
     "text": [
      "Generating h3 grid level 5:   0%|          | 0/4 [00:00<?, ?it/s]"
     ]
    },
    {
     "name": "stdout",
     "output_type": "stream",
     "text": [
      "14:19:52\tStarting Space2Stats/h3_spatial_data/SAR/BTN\n"
     ]
    },
    {
     "name": "stderr",
     "output_type": "stream",
     "text": [
      "Generating h3 grid level 5: 100%|██████████| 19/19 [00:00<00:00, 36.12it/s]\n",
      "Generating h3 grid level 5: 100%|██████████| 4/4 [00:00<00:00, 194.60it/s]\n",
      "Generating h3 grid level 5:   0%|          | 0/24 [00:00<?, ?it/s]"
     ]
    },
    {
     "name": "stdout",
     "output_type": "stream",
     "text": [
      "14:19:52\tStarting Space2Stats/h3_spatial_data/AFR/BWA\n"
     ]
    },
    {
     "name": "stderr",
     "output_type": "stream",
     "text": [
      "\r",
      "Generating h3 grid level 5:  39%|███▉      | 38/97 [00:00<00:00, 379.23it/s]"
     ]
    },
    {
     "name": "stdout",
     "output_type": "stream",
     "text": [
      "14:19:52\tStarting Space2Stats/h3_spatial_data/LCR/BRA"
     ]
    },
    {
     "name": "stderr",
     "output_type": "stream",
     "text": [
      "\r",
      "Generating h3 grid level 5:   0%|          | 0/21 [00:00<?, ?it/s]"
     ]
    },
    {
     "name": "stdout",
     "output_type": "stream",
     "text": [
      "\n",
      "14:19:52\tStarting Space2Stats/h3_spatial_data/AFR/CAF\n"
     ]
    },
    {
     "name": "stderr",
     "output_type": "stream",
     "text": [
      "Generating h3 grid level 5: 100%|██████████| 97/97 [00:00<00:00, 498.38it/s]\n",
      "Generating h3 grid level 5: 100%|██████████| 2/2 [00:00<00:00,  2.13it/s]s]\n",
      "Generating h3 grid level 5: 100%|██████████| 21/21 [00:00<00:00, 74.76it/s]\n",
      "Generating h3 grid level 5: 100%|██████████| 7/7 [00:00<00:00,  8.58it/s]\n"
     ]
    },
    {
     "name": "stdout",
     "output_type": "stream",
     "text": [
      "14:19:53\tCompleted Space2Stats/h3_spatial_data/Other/CXR\n",
      "14:19:53\tCompleted Space2Stats/h3_spatial_data/Other/AND\n",
      "14:19:53\tCompleted Space2Stats/h3_spatial_data/LCR/ATG\n",
      "14:19:53\tCompleted Space2Stats/h3_spatial_data/Other/HMD\n"
     ]
    },
    {
     "name": "stderr",
     "output_type": "stream",
     "text": [
      "\r",
      "Generating h3 grid level 5:   0%|          | 0/933 [00:00<?, ?it/s]"
     ]
    },
    {
     "name": "stdout",
     "output_type": "stream",
     "text": [
      "14:19:53\tCompleted Space2Stats/h3_spatial_data/ECA/ALB\n"
     ]
    },
    {
     "name": "stderr",
     "output_type": "stream",
     "text": [
      "Generating h3 grid level 5:   4%|▍         | 1/24 [00:01<00:23,  1.03s/it]"
     ]
    },
    {
     "name": "stdout",
     "output_type": "stream",
     "text": [
      "14:19:53\tCompleted Space2Stats/h3_spatial_data/LCR/BRB\n"
     ]
    },
    {
     "name": "stderr",
     "output_type": "stream",
     "text": [
      "Generating h3 grid level 5: 100%|██████████| 24/24 [00:01<00:00, 23.03it/s]\n"
     ]
    },
    {
     "name": "stdout",
     "output_type": "stream",
     "text": [
      "14:19:53\tCompleted Space2Stats/h3_spatial_data/MENA/BHR\n"
     ]
    },
    {
     "name": "stderr",
     "output_type": "stream",
     "text": [
      "\r",
      "Generating h3 grid level 5:  20%|██        | 188/933 [00:00<00:01, 551.09it/s]"
     ]
    },
    {
     "name": "stdout",
     "output_type": "stream",
     "text": [
      "14:19:53\tCompleted Space2Stats/h3_spatial_data/Other/BRN\n"
     ]
    },
    {
     "name": "stderr",
     "output_type": "stream",
     "text": [
      "Generating h3 grid level 5:   3%|▎         | 3/98 [00:00<00:12,  7.42it/s]it/s]"
     ]
    },
    {
     "name": "stdout",
     "output_type": "stream",
     "text": [
      "14:19:53\tCompleted Space2Stats/h3_spatial_data/ECA/ARM\n"
     ]
    },
    {
     "name": "stderr",
     "output_type": "stream",
     "text": [
      "Generating h3 grid level 5: 100%|██████████| 933/933 [00:00<00:00, 1457.21it/s]\n",
      "Generating h3 grid level 5:  31%|███       | 76/249 [00:00<00:00, 747.61it/s]"
     ]
    },
    {
     "name": "stdout",
     "output_type": "stream",
     "text": [
      "14:19:54\tStarting Space2Stats/h3_spatial_data/Other/CHE\n",
      "14:19:54\tCompleted Space2Stats/h3_spatial_data/ECA/BIH\n",
      "14:19:54\tCompleted Space2Stats/h3_spatial_data/Other/BEL\n",
      "14:19:54\tStarting Space2Stats/h3_spatial_data/EAP/MAC14:19:54\tStarting Space2Stats/h3_spatial_data/EAP/HKG\n",
      "\n"
     ]
    },
    {
     "name": "stderr",
     "output_type": "stream",
     "text": [
      "Generating h3 grid level 5: 100%|██████████| 5/5 [00:00<00:00, 268.36it/s]\n",
      "Generating h3 grid level 5: 100%|██████████| 13/13 [00:02<00:00,  5.80it/s]/s] \n",
      "Generating h3 grid level 5:  64%|██████▍   | 631/989 [00:01<00:00, 491.66it/s]"
     ]
    },
    {
     "name": "stdout",
     "output_type": "stream",
     "text": [
      "14:19:54\tCompleted Space2Stats/h3_spatial_data/SAR/BTN\n",
      "14:19:54\tCompleted Space2Stats/h3_spatial_data/LCR/BLZ\n"
     ]
    },
    {
     "name": "stderr",
     "output_type": "stream",
     "text": [
      "\r",
      "Generating h3 grid level 5:  84%|████████▍ | 829/989 [00:01<00:00, 720.99it/s]"
     ]
    },
    {
     "name": "stdout",
     "output_type": "stream",
     "text": [
      "14:19:55\tStarting Space2Stats/h3_spatial_data/EAP/TWN\n"
     ]
    },
    {
     "name": "stderr",
     "output_type": "stream",
     "text": [
      "Generating h3 grid level 5: 100%|██████████| 989/989 [00:01<00:00, 718.49it/s]\n"
     ]
    },
    {
     "name": "stdout",
     "output_type": "stream",
     "text": [
      "14:19:55\tStarting Space2Stats/h3_spatial_data/AFR/CIV\n",
      "14:19:55\tStarting Space2Stats/h3_spatial_data/AFR/CMR\n",
      "14:19:55\tStarting Space2Stats/h3_spatial_data/LCR/CHL\n",
      "14:19:55\tStarting Space2Stats/h3_spatial_data/AFR/COM\n",
      "14:19:55\tStarting Space2Stats/h3_spatial_data/AFR/CPV\n",
      "14:19:55\tStarting Space2Stats/h3_spatial_data/LCR/CRI\n",
      "14:19:55\tStarting Space2Stats/h3_spatial_data/AFR/COD\n",
      "14:19:55\tStarting Space2Stats/h3_spatial_data/AFR/COG\n",
      "14:19:55\tStarting Space2Stats/h3_spatial_data/ECA/CYP\n"
     ]
    },
    {
     "name": "stderr",
     "output_type": "stream",
     "text": [
      "Generating h3 grid level 5:   0%|          | 0/1671 [00:00<?, ?it/s]"
     ]
    },
    {
     "name": "stdout",
     "output_type": "stream",
     "text": [
      "14:19:55\tStarting Space2Stats/h3_spatial_data/Other/CUB\n",
      "14:19:55\tStarting Space2Stats/h3_spatial_data/ECA/CZE\n",
      "14:19:55\tStarting Space2Stats/h3_spatial_data/LCR/DMA"
     ]
    },
    {
     "name": "stderr",
     "output_type": "stream",
     "text": [
      "\r",
      "Generating h3 grid level 5:   0%|          | 0/426 [00:00<?, ?it/s]"
     ]
    },
    {
     "name": "stdout",
     "output_type": "stream",
     "text": [
      "\n"
     ]
    },
    {
     "name": "stderr",
     "output_type": "stream",
     "text": [
      "Generating h3 grid level 5: 100%|██████████| 22/22 [00:00<00:00, 423.11it/s]\n"
     ]
    },
    {
     "name": "stdout",
     "output_type": "stream",
     "text": [
      "14:19:55\tStarting Space2Stats/h3_spatial_data/Other/DEU\n",
      "14:19:55\tStarting Space2Stats/h3_spatial_data/Other/FRO\n",
      "14:19:55\tStarting Space2Stats/h3_spatial_data/Other/DNK14:19:55\tStarting Space2Stats/h3_spatial_data/EAP/CHN\n",
      "14:19:55\tCompleted Space2Stats/h3_spatial_data/AFR/BDI\n",
      "\n"
     ]
    },
    {
     "name": "stderr",
     "output_type": "stream",
     "text": [
      "Generating h3 grid level 5:   0%|          | 0/176 [00:00<?, ?it/s]72.59it/s]"
     ]
    },
    {
     "name": "stdout",
     "output_type": "stream",
     "text": [
      "14:19:55\tStarting Space2Stats/h3_spatial_data/LCR/DOM\n"
     ]
    },
    {
     "name": "stderr",
     "output_type": "stream",
     "text": [
      "\r",
      "Generating h3 grid level 5:  11%|█         | 185/1671 [00:00<00:01, 783.12it/s]"
     ]
    },
    {
     "name": "stdout",
     "output_type": "stream",
     "text": [
      "14:19:55\tStarting Space2Stats/h3_spatial_data/MENA/EGY14:19:55\tStarting Space2Stats/h3_spatial_data/MENA/DZA\n"
     ]
    }
   ],
   "source": [
    "with multiprocessing.Pool(processes=min([70,len(all_args)])) as pool:\n",
    "    results = pool.starmap(generate_grid, all_args)"
   ]
  },
  {
   "cell_type": "code",
   "execution_count": null,
   "metadata": {},
   "outputs": [],
   "source": []
  }
 ],
 "metadata": {
  "kernelspec": {
   "display_name": "Earth Engine",
   "language": "python",
   "name": "ee"
  },
  "language_info": {
   "codemirror_mode": {
    "name": "ipython",
    "version": 3
   },
   "file_extension": ".py",
   "mimetype": "text/x-python",
   "name": "python",
   "nbconvert_exporter": "python",
   "pygments_lexer": "ipython3",
   "version": "3.9.4"
  }
 },
 "nbformat": 4,
 "nbformat_minor": 2
}
