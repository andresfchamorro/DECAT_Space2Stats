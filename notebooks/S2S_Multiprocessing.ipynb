{
 "cells": [
  {
   "cell_type": "markdown",
   "metadata": {},
   "source": [
    "# Multiprocessing zonal calculations"
   ]
  },
  {
   "cell_type": "code",
   "execution_count": 1,
   "metadata": {},
   "outputs": [
    {
     "name": "stderr",
     "output_type": "stream",
     "text": [
      "/home/wb411133/.conda/envs/ee/lib/python3.9/site-packages/geopandas/_compat.py:106: UserWarning: The Shapely GEOS version (3.9.1-CAPI-1.14.2) is incompatible with the GEOS version PyGEOS was compiled with (3.10.4-CAPI-1.16.2). Conversions between both will be slow.\n",
      "  warnings.warn(\n"
     ]
    }
   ],
   "source": [
    "import sys, os, importlib, math, multiprocessing\n",
    "import rasterio, geojson\n",
    "\n",
    "import pandas as pd\n",
    "import geopandas as gpd\n",
    "import numpy as np\n",
    "\n",
    "from h3 import h3\n",
    "from tqdm import tqdm\n",
    "from shapely.geometry import Polygon\n",
    "\n",
    "sys.path.insert(0, \"/home/wb411133/Code/gostrocks/src\")\n",
    "import GOSTRocks.rasterMisc as rMisc\n",
    "import GOSTRocks.ntlMisc as ntl\n",
    "import GOSTRocks.mapMisc as mapMisc\n",
    "from GOSTRocks.misc import tPrint\n",
    "\n",
    "sys.path.append(\"../src\")\n",
    "import h3_helper\n",
    "import country_zonal\n",
    "\n",
    "%load_ext autoreload\n",
    "%autoreload 2"
   ]
  },
  {
   "cell_type": "code",
   "execution_count": 2,
   "metadata": {},
   "outputs": [],
   "source": [
    "admin_bounds = \"/home/public/Data/GLOBAL/ADMIN/ADMIN2/HighRes_20230328/shp/WB_GAD_ADM2.shp\"\n",
    "global_urban_file = \"/home/public/Data/GLOBAL/GHSL/SMOD/GHS_SMOD_E2020_GLOBE_R2023A_54009_1000_V1_0.tif\"\n",
    "global_pop_file = \"/home/public/Data/GLOBAL/GHSL/Pop/GHS_POP_E2020_GLOBE_R2023A_54009_100_V1_0.tif\""
   ]
  },
  {
   "cell_type": "code",
   "execution_count": 10,
   "metadata": {},
   "outputs": [],
   "source": [
    "inA = gpd.read_file(admin_bounds)\n",
    "inA['ID'] = inA.index #Create ID for indexing"
   ]
  },
  {
   "cell_type": "code",
   "execution_count": 11,
   "metadata": {},
   "outputs": [],
   "source": [
    "sel_iso3 = set(inA.loc[inA['WB_REGION'] == \"LCR\"]['WB_A3'].unique())\n",
    "sel_iso3 = [x for x in sel_iso3 if x != None]"
   ]
  },
  {
   "cell_type": "code",
   "execution_count": 12,
   "metadata": {},
   "outputs": [
    {
     "name": "stdout",
     "output_type": "stream",
     "text": [
      "/home/wb411133/projects/Space2Stats/COUNTRIES/ECU\n",
      "/home/wb411133/projects/Space2Stats/COUNTRIES/PAN\n",
      "/home/wb411133/projects/Space2Stats/COUNTRIES/COL\n",
      "/home/wb411133/projects/Space2Stats/COUNTRIES/CHL\n",
      "/home/wb411133/projects/Space2Stats/COUNTRIES/NIC\n",
      "/home/wb411133/projects/Space2Stats/COUNTRIES/VCT\n",
      "/home/wb411133/projects/Space2Stats/COUNTRIES/TTO\n",
      "/home/wb411133/projects/Space2Stats/COUNTRIES/ARG\n",
      "/home/wb411133/projects/Space2Stats/COUNTRIES/PER\n",
      "/home/wb411133/projects/Space2Stats/COUNTRIES/HND\n",
      "/home/wb411133/projects/Space2Stats/COUNTRIES/URY\n",
      "/home/wb411133/projects/Space2Stats/COUNTRIES/PRY\n",
      "/home/wb411133/projects/Space2Stats/COUNTRIES/SLV\n",
      "/home/wb411133/projects/Space2Stats/COUNTRIES/GTM\n",
      "/home/wb411133/projects/Space2Stats/COUNTRIES/GRD\n",
      "/home/wb411133/projects/Space2Stats/COUNTRIES/BHS\n",
      "/home/wb411133/projects/Space2Stats/COUNTRIES/VEN\n",
      "/home/wb411133/projects/Space2Stats/COUNTRIES/BRB\n",
      "/home/wb411133/projects/Space2Stats/COUNTRIES/CRI\n",
      "/home/wb411133/projects/Space2Stats/COUNTRIES/BOL\n",
      "/home/wb411133/projects/Space2Stats/COUNTRIES/KNA\n",
      "/home/wb411133/projects/Space2Stats/COUNTRIES/GUY\n",
      "/home/wb411133/projects/Space2Stats/COUNTRIES/DMA\n",
      "/home/wb411133/projects/Space2Stats/COUNTRIES/DOM\n",
      "/home/wb411133/projects/Space2Stats/COUNTRIES/MEX\n",
      "/home/wb411133/projects/Space2Stats/COUNTRIES/LCA\n",
      "/home/wb411133/projects/Space2Stats/COUNTRIES/SUR\n",
      "/home/wb411133/projects/Space2Stats/COUNTRIES/BLZ\n",
      "/home/wb411133/projects/Space2Stats/COUNTRIES/BRA\n",
      "/home/wb411133/projects/Space2Stats/COUNTRIES/ATG\n",
      "/home/wb411133/projects/Space2Stats/COUNTRIES/JAM\n"
     ]
    }
   ],
   "source": [
    "arg_list = []\n",
    "for iso3 in sel_iso3:\n",
    "    selA = inA.loc[inA['WB_A3'] == iso3].copy()\n",
    "    out_folder = f\"/home/wb411133/projects/Space2Stats/COUNTRIES/{iso3}\"\n",
    "    print(out_folder)\n",
    "    if not os.path.exists(out_folder):\n",
    "        os.makedirs(out_folder)\n",
    "    arg_list.append([iso3, selA, 6, global_pop_file, global_urban_file, out_folder])"
   ]
  },
  {
   "cell_type": "code",
   "execution_count": 13,
   "metadata": {},
   "outputs": [],
   "source": [
    "def multi_processing_single_raster(sel_iso3, inA, h3_level, r_file, urban_file, out_folder, zonal_label):\n",
    "    out_file = os.path.join(out_folder, f'{sel_iso3}_{zonal_label}_{h3_level}.csv')\n",
    "    print(out_file)\n",
    "    if not os.path.exists(out_file):\n",
    "        zonalC = country_zonal.country_h3_zonal(sel_iso3, selA, \"ID\", h3_level, out_folder)\n",
    "        zonal_res_pop = zonalC.zonal_raster_urban(r_file, urban_file)\n",
    "        zonal_res_pop.to_csv(out_file)\n",
    "    return(out_file)"
   ]
  },
  {
   "cell_type": "code",
   "execution_count": 14,
   "metadata": {},
   "outputs": [
    {
     "name": "stdout",
     "output_type": "stream",
     "text": [
      "/home/wb411133/projects/Space2Stats/COUNTRIES/ECU/ECU_GHS_POP_2020_6.csv\n"
     ]
    },
    {
     "name": "stderr",
     "output_type": "stream",
     "text": [
      "Generating h3 grid level 6: 100%|██████████| 28/28 [00:00<00:00, 183.50it/s]\n"
     ]
    },
    {
     "name": "stdout",
     "output_type": "stream",
     "text": [
      "(1, 1827, 2113)\n"
     ]
    },
    {
     "data": {
      "text/plain": [
       "'/home/wb411133/projects/Space2Stats/COUNTRIES/ECU/ECU_GHS_POP_2020_6.csv'"
      ]
     },
     "execution_count": 14,
     "metadata": {},
     "output_type": "execute_result"
    }
   ],
   "source": [
    "multi_processing_single_raster(*arg_list[0], \"GHS_POP_2020\")"
   ]
  },
  {
   "cell_type": "code",
   "execution_count": null,
   "metadata": {},
   "outputs": [],
   "source": [
    "with multiprocessing.Pool(processes=min([70,len(arg_list)])) as pool:\n",
    "    results = pool.starmap(multi_processing_single_raster, arg_list)"
   ]
  },
  {
   "cell_type": "code",
   "execution_count": null,
   "metadata": {},
   "outputs": [],
   "source": [
    "multi_processing_single_raster(*arg_list[0], \"GHS_POP_2020\")"
   ]
  },
  {
   "cell_type": "code",
   "execution_count": null,
   "metadata": {},
   "outputs": [],
   "source": []
  }
 ],
 "metadata": {
  "kernelspec": {
   "display_name": "Earth Engine",
   "language": "python",
   "name": "ee"
  },
  "language_info": {
   "codemirror_mode": {
    "name": "ipython",
    "version": 3
   },
   "file_extension": ".py",
   "mimetype": "text/x-python",
   "name": "python",
   "nbconvert_exporter": "python",
   "pygments_lexer": "ipython3",
   "version": "3.9.4"
  }
 },
 "nbformat": 4,
 "nbformat_minor": 2
}
