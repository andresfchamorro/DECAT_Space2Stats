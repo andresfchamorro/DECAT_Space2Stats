{
 "cells": [
  {
   "cell_type": "markdown",
   "metadata": {},
   "source": [
    "# Explore h3 resolution on zonal results\n",
    "\n",
    "The planned process for aggregating spatial data is to first aggregate to an h3 level, and then join those h3 results to the admin level. This notebook will explore the effects of this process on the zonal statistics results but analyzing three raster datasets at 4 h3 resolutions:\n",
    "\n",
    "## Raster Datasets\n",
    "| Name | Description | Resolution | Data Type |\n",
    "| --- | ---| ---| --- |\n",
    "| GHS-Pop | Gridded population data | 100m | Continuous |\n",
    "| GHS-SMOD | Gridded urbanization | 1km | Categorical |\n",
    "| VIIRS NTL | VIIRS nivghttime brightness | ~1km | Continuous |\n",
    "\n",
    "## H3 levels\n",
    "| Level | Area (km2) |\n",
    "| --- | --- |\n",
    "| 8 | 0.73 |\n",
    "| 7 | 5.16 |\n",
    "| 6 | 36.12 |\n",
    "| 5 | 252.90 | "
   ]
  },
  {
   "cell_type": "code",
   "execution_count": 2,
   "metadata": {},
   "outputs": [
    {
     "name": "stderr",
     "output_type": "stream",
     "text": [
      "/home/wb411133/.conda/envs/ee/lib/python3.9/site-packages/geopandas/_compat.py:106: UserWarning: The Shapely GEOS version (3.9.1-CAPI-1.14.2) is incompatible with the GEOS version PyGEOS was compiled with (3.10.4-CAPI-1.16.2). Conversions between both will be slow.\n",
      "  warnings.warn(\n"
     ]
    }
   ],
   "source": [
    "import sys, os, importlib, math, multiprocessing\n",
    "import rasterio, geojson\n",
    "\n",
    "import pandas as pd\n",
    "import geopandas as gpd\n",
    "import numpy as np\n",
    "\n",
    "from h3 import h3\n",
    "from tqdm import tqdm\n",
    "from shapely.geometry import Polygon\n",
    "\n",
    "sys.path.insert(0, \"/home/wb411133/Code/gostrocks/src\")\n",
    "import GOSTRocks.rasterMisc as rMisc\n",
    "import GOSTRocks.ntlMisc as ntl\n",
    "import GOSTRocks.mapMisc as mapMisc\n",
    "from GOSTRocks.misc import tPrint\n",
    "\n",
    "sys.path.append(\"../src\")\n",
    "import h3_helper\n",
    "import country_zonal\n",
    "\n",
    "%load_ext autoreload\n",
    "%autoreload 2"
   ]
  },
  {
   "cell_type": "code",
   "execution_count": 3,
   "metadata": {},
   "outputs": [],
   "source": [
    "# Define input datasets\n",
    "sel_iso3 = \"KEN\"\n",
    "\n",
    "admin_bounds = \"/home/public/Data/GLOBAL/ADMIN/ADMIN2/HighRes_20230328/shp/WB_GAD_ADM2.shp\"\n",
    "out_folder = f\"/home/wb411133/projects/Space2Stats/{sel_iso3}/zonal_comparison\"\n",
    "if not os.path.exists(out_folder):\n",
    "    os.makedirs(out_folder)\n",
    "\n",
    "global_urban = \"/home/public/Data/GLOBAL/GHSL/SMOD/GHS_SMOD_E2020_GLOBE_R2023A_54009_1000_V1_0.tif\"\n",
    "global_pop_layer = \"/home/public/Data/GLOBAL/GHSL/Pop/GHS_POP_E2020_GLOBE_R2023A_54009_100_V1_0.tif\"\n",
    "ntl_layers = ntl.aws_search_ntl()\n",
    "ntl_file = ntl_layers[-1]\n",
    "\n",
    "inA = gpd.read_file(admin_bounds)\n",
    "selA = inA.loc[inA['ISO_A3'] == sel_iso3].copy()\n",
    "selA['ID'] = selA.index #Create ID for indexing\n",
    "\n",
    "raster_defs = [\n",
    "        #[global_urban, \"GHS_SMOD\", 'C', [30,23,22,21,13,12,11]], \n",
    "        [global_pop_layer, \"GHS_POP\", 'N'], \n",
    "        [ntl_file, 'NTL','N']\n",
    "    ]"
   ]
  },
  {
   "cell_type": "markdown",
   "metadata": {},
   "source": [
    "## Run various zonal levels\n",
    "\n",
    "Run zonal statistics against the h3 grid at various levels (see table above)"
   ]
  },
  {
   "cell_type": "code",
   "execution_count": 5,
   "metadata": {
    "scrolled": true
   },
   "outputs": [
    {
     "name": "stdout",
     "output_type": "stream",
     "text": [
      "09:33:42\tProcessing h3 level 5: GHS_POP\n"
     ]
    },
    {
     "name": "stderr",
     "output_type": "stream",
     "text": [
      "100%|██████████| 365/365 [00:01<00:00, 206.71it/s]\n"
     ]
    },
    {
     "name": "stdout",
     "output_type": "stream",
     "text": [
      "(1, 11563, 7953)\n",
      "09:34:17\tProcessing h3 level 5: NTL\n",
      "(1, 2246, 1921)\n",
      "09:34:37\tProcessing h3 level 6: GHS_POP\n"
     ]
    },
    {
     "name": "stderr",
     "output_type": "stream",
     "text": [
      "100%|██████████| 365/365 [00:07<00:00, 51.17it/s]\n"
     ]
    },
    {
     "name": "stdout",
     "output_type": "stream",
     "text": [
      "(1, 11563, 7953)\n",
      "09:36:00\tProcessing h3 level 6: NTL\n",
      "(1, 2246, 1921)\n",
      "09:36:56\tProcessing h3 level 7: GHS_POP\n"
     ]
    },
    {
     "name": "stderr",
     "output_type": "stream",
     "text": [
      "100%|██████████| 365/365 [00:44<00:00,  8.27it/s] \n"
     ]
    },
    {
     "name": "stdout",
     "output_type": "stream",
     "text": [
      "(1, 11563, 7953)\n",
      "09:43:28\tProcessing h3 level 7: NTL\n",
      "(1, 2246, 1921)\n",
      "09:48:33\tProcessing h3 level 8: GHS_POP\n"
     ]
    },
    {
     "name": "stderr",
     "output_type": "stream",
     "text": [
      "100%|██████████| 365/365 [05:46<00:00,  1.05it/s]  \n"
     ]
    },
    {
     "name": "stdout",
     "output_type": "stream",
     "text": [
      "(1, 11563, 7953)\n",
      "10:32:28\tProcessing h3 level 8: NTL\n",
      "(1, 2246, 1921)\n"
     ]
    }
   ],
   "source": [
    "final_res = {}\n",
    "for h3_level in [5,6,7,8]:\n",
    "    zonalC = country_zonal.country_h3_zonal(sel_iso3, selA, \"ID\", h3_level, out_folder)\n",
    "    for cur_raster_def in raster_defs:\n",
    "        cur_raster = cur_raster_def[0]\n",
    "        cur_label = cur_raster_def[1]\n",
    "        tPrint(f'Processing h3 level {h3_level}: {cur_label}')\n",
    "\n",
    "        if cur_raster_def[2] == 'N':\n",
    "            zonal_res = zonalC.zonal_raster_urban(cur_raster, global_urban, minVal=0, rastType=cur_raster_def[2])\n",
    "        else:\n",
    "            zonal_res = zonalC.zonal_raster_urban(cur_raster, global_urban, minVal=0, \n",
    "                                                  rastType=cur_raster_def[2], unqVals=cur_raster_def[3])\n",
    "        cur_res = country_zonal.connect_polygons_h3_stats(selA, zonal_res, h3_level, \"ID\", True)\n",
    "        map_admin = pd.merge(selA, cur_res, left_on=\"ID\", right_on='id')\n",
    "        final_res[f'{cur_label}_{h3_level}'] = map_admin.copy()"
   ]
  },
  {
   "cell_type": "code",
   "execution_count": 17,
   "metadata": {},
   "outputs": [
    {
     "name": "stdout",
     "output_type": "stream",
     "text": [
      "11:28:22\tProcessing: GHS_POP\n",
      "11:28:29\tProcessing: NTL\n"
     ]
    },
    {
     "data": {
      "text/html": [
       "<div>\n",
       "<style scoped>\n",
       "    .dataframe tbody tr th:only-of-type {\n",
       "        vertical-align: middle;\n",
       "    }\n",
       "\n",
       "    .dataframe tbody tr th {\n",
       "        vertical-align: top;\n",
       "    }\n",
       "\n",
       "    .dataframe thead th {\n",
       "        text-align: right;\n",
       "    }\n",
       "</style>\n",
       "<table border=\"1\" class=\"dataframe\">\n",
       "  <thead>\n",
       "    <tr style=\"text-align: right;\">\n",
       "      <th></th>\n",
       "      <th>ISO_A3</th>\n",
       "      <th>ISO_A2</th>\n",
       "      <th>WB_A3</th>\n",
       "      <th>HASC_0</th>\n",
       "      <th>HASC_1</th>\n",
       "      <th>HASC_2</th>\n",
       "      <th>GAUL_0</th>\n",
       "      <th>GAUL_1</th>\n",
       "      <th>GAUL_2</th>\n",
       "      <th>WB_REGION</th>\n",
       "      <th>...</th>\n",
       "      <th>GHS_POP</th>\n",
       "      <th>NTL</th>\n",
       "      <th>GHS_POP_5</th>\n",
       "      <th>NTL_5</th>\n",
       "      <th>GHS_POP_6</th>\n",
       "      <th>NTL_6</th>\n",
       "      <th>GHS_POP_7</th>\n",
       "      <th>NTL_7</th>\n",
       "      <th>GHS_POP_8</th>\n",
       "      <th>NTL_8</th>\n",
       "    </tr>\n",
       "  </thead>\n",
       "  <tbody>\n",
       "    <tr>\n",
       "      <th>36683</th>\n",
       "      <td>KEN</td>\n",
       "      <td>KE</td>\n",
       "      <td>KEN</td>\n",
       "      <td>KE</td>\n",
       "      <td>None</td>\n",
       "      <td>None</td>\n",
       "      <td>133</td>\n",
       "      <td>0</td>\n",
       "      <td>0</td>\n",
       "      <td>AFR</td>\n",
       "      <td>...</td>\n",
       "      <td>133402.002027</td>\n",
       "      <td>1782.820068</td>\n",
       "      <td>51796.737927</td>\n",
       "      <td>450.940886</td>\n",
       "      <td>115367.032971</td>\n",
       "      <td>1233.821429</td>\n",
       "      <td>122867.823655</td>\n",
       "      <td>1506.402845</td>\n",
       "      <td>126938.836788</td>\n",
       "      <td>1653.087610</td>\n",
       "    </tr>\n",
       "    <tr>\n",
       "      <th>36684</th>\n",
       "      <td>KEN</td>\n",
       "      <td>KE</td>\n",
       "      <td>KEN</td>\n",
       "      <td>KE</td>\n",
       "      <td>None</td>\n",
       "      <td>None</td>\n",
       "      <td>133</td>\n",
       "      <td>0</td>\n",
       "      <td>0</td>\n",
       "      <td>AFR</td>\n",
       "      <td>...</td>\n",
       "      <td>195964.470341</td>\n",
       "      <td>1046.790039</td>\n",
       "      <td>161387.554905</td>\n",
       "      <td>936.749120</td>\n",
       "      <td>153378.802814</td>\n",
       "      <td>897.664381</td>\n",
       "      <td>177899.277756</td>\n",
       "      <td>899.498319</td>\n",
       "      <td>191703.671774</td>\n",
       "      <td>1010.824403</td>\n",
       "    </tr>\n",
       "    <tr>\n",
       "      <th>36685</th>\n",
       "      <td>KEN</td>\n",
       "      <td>KE</td>\n",
       "      <td>KEN</td>\n",
       "      <td>KE</td>\n",
       "      <td>None</td>\n",
       "      <td>None</td>\n",
       "      <td>133</td>\n",
       "      <td>0</td>\n",
       "      <td>0</td>\n",
       "      <td>AFR</td>\n",
       "      <td>...</td>\n",
       "      <td>204961.672418</td>\n",
       "      <td>1124.550049</td>\n",
       "      <td>125153.952002</td>\n",
       "      <td>620.031772</td>\n",
       "      <td>168460.581446</td>\n",
       "      <td>909.788722</td>\n",
       "      <td>192930.049403</td>\n",
       "      <td>1033.911439</td>\n",
       "      <td>199482.151302</td>\n",
       "      <td>1072.926858</td>\n",
       "    </tr>\n",
       "    <tr>\n",
       "      <th>36686</th>\n",
       "      <td>KEN</td>\n",
       "      <td>KE</td>\n",
       "      <td>KEN</td>\n",
       "      <td>KE</td>\n",
       "      <td>None</td>\n",
       "      <td>None</td>\n",
       "      <td>133</td>\n",
       "      <td>0</td>\n",
       "      <td>0</td>\n",
       "      <td>AFR</td>\n",
       "      <td>...</td>\n",
       "      <td>218527.939659</td>\n",
       "      <td>1886.150146</td>\n",
       "      <td>155845.132956</td>\n",
       "      <td>1295.483997</td>\n",
       "      <td>186836.986520</td>\n",
       "      <td>1650.854277</td>\n",
       "      <td>210673.862441</td>\n",
       "      <td>1816.132172</td>\n",
       "      <td>215838.228994</td>\n",
       "      <td>1853.641294</td>\n",
       "    </tr>\n",
       "    <tr>\n",
       "      <th>36687</th>\n",
       "      <td>KEN</td>\n",
       "      <td>KE</td>\n",
       "      <td>KEN</td>\n",
       "      <td>KE</td>\n",
       "      <td>None</td>\n",
       "      <td>None</td>\n",
       "      <td>133</td>\n",
       "      <td>0</td>\n",
       "      <td>0</td>\n",
       "      <td>AFR</td>\n",
       "      <td>...</td>\n",
       "      <td>130289.026833</td>\n",
       "      <td>942.410034</td>\n",
       "      <td>NaN</td>\n",
       "      <td>NaN</td>\n",
       "      <td>93953.629052</td>\n",
       "      <td>701.568360</td>\n",
       "      <td>121099.062338</td>\n",
       "      <td>878.275115</td>\n",
       "      <td>126910.909358</td>\n",
       "      <td>920.376328</td>\n",
       "    </tr>\n",
       "  </tbody>\n",
       "</table>\n",
       "<p>5 rows × 39 columns</p>\n",
       "</div>"
      ],
      "text/plain": [
       "      ISO_A3 ISO_A2 WB_A3 HASC_0 HASC_1 HASC_2  GAUL_0  GAUL_1  GAUL_2  \\\n",
       "36683    KEN     KE   KEN     KE   None   None     133       0       0   \n",
       "36684    KEN     KE   KEN     KE   None   None     133       0       0   \n",
       "36685    KEN     KE   KEN     KE   None   None     133       0       0   \n",
       "36686    KEN     KE   KEN     KE   None   None     133       0       0   \n",
       "36687    KEN     KE   KEN     KE   None   None     133       0       0   \n",
       "\n",
       "      WB_REGION  ...        GHS_POP          NTL      GHS_POP_5        NTL_5  \\\n",
       "36683       AFR  ...  133402.002027  1782.820068   51796.737927   450.940886   \n",
       "36684       AFR  ...  195964.470341  1046.790039  161387.554905   936.749120   \n",
       "36685       AFR  ...  204961.672418  1124.550049  125153.952002   620.031772   \n",
       "36686       AFR  ...  218527.939659  1886.150146  155845.132956  1295.483997   \n",
       "36687       AFR  ...  130289.026833   942.410034            NaN          NaN   \n",
       "\n",
       "           GHS_POP_6        NTL_6      GHS_POP_7        NTL_7      GHS_POP_8  \\\n",
       "36683  115367.032971  1233.821429  122867.823655  1506.402845  126938.836788   \n",
       "36684  153378.802814   897.664381  177899.277756   899.498319  191703.671774   \n",
       "36685  168460.581446   909.788722  192930.049403  1033.911439  199482.151302   \n",
       "36686  186836.986520  1650.854277  210673.862441  1816.132172  215838.228994   \n",
       "36687   93953.629052   701.568360  121099.062338   878.275115  126910.909358   \n",
       "\n",
       "             NTL_8  \n",
       "36683  1653.087610  \n",
       "36684  1010.824403  \n",
       "36685  1072.926858  \n",
       "36686  1853.641294  \n",
       "36687   920.376328  \n",
       "\n",
       "[5 rows x 39 columns]"
      ]
     },
     "execution_count": 17,
     "metadata": {},
     "output_type": "execute_result"
    }
   ],
   "source": [
    "inD = selA.copy()\n",
    "\n",
    "# run zonal stats directly on the admin boundaries\n",
    "for cur_raster_def in raster_defs:\n",
    "    cur_raster = cur_raster_def[0]\n",
    "    cur_label = cur_raster_def[1]\n",
    "    tPrint(f'Processing: {cur_label}')\n",
    "\n",
    "    if cur_raster_def[2] == 'N':\n",
    "        zonal_res = rMisc.zonalStats(selA, cur_raster, minVal=0, rastType=cur_raster_def[2], reProj=True)\n",
    "        zonal_res = pd.DataFrame(zonal_res, columns=['SUM', 'MIN', 'MAX', 'MEAN'])    \n",
    "    else:\n",
    "        zonal_res = rMisc.zonalStats(selA, cur_raster, minVal=0, rastType=cur_raster_def[2], unqVals=cur_raster_def[3], reProj=True)\n",
    "    inD[cur_label] = zonal_res['SUM'].values\n",
    "    \n",
    "for key, item in final_res.items():\n",
    "    try:\n",
    "        inD[key] = item['SUM'].values.astype(float)\n",
    "    except:\n",
    "        print(key)\n",
    "        \n",
    "inD.head()"
   ]
  },
  {
   "cell_type": "code",
   "execution_count": 20,
   "metadata": {},
   "outputs": [],
   "source": [
    "xx = rasterio.open(cur_raster)"
   ]
  },
  {
   "cell_type": "code",
   "execution_count": 23,
   "metadata": {},
   "outputs": [
    {
     "data": {
      "text/plain": [
       "(-180.00208333335, -65.00208445335001)"
      ]
     },
     "execution_count": 23,
     "metadata": {},
     "output_type": "execute_result"
    }
   ],
   "source": [
    "xx.bounds[0:2]"
   ]
  },
  {
   "cell_type": "markdown",
   "metadata": {},
   "source": [
    "# Map intersection of admin vectors and hexes"
   ]
  },
  {
   "cell_type": "code",
   "execution_count": 1,
   "metadata": {},
   "outputs": [
    {
     "ename": "NameError",
     "evalue": "name 'inD' is not defined",
     "output_type": "error",
     "traceback": [
      "\u001b[0;31m---------------------------------------------------------------------------\u001b[0m",
      "\u001b[0;31mNameError\u001b[0m                                 Traceback (most recent call last)",
      "\u001b[0;32m<ipython-input-1-8c2bf09cef15>\u001b[0m in \u001b[0;36m<module>\u001b[0;34m\u001b[0m\n\u001b[0;32m----> 1\u001b[0;31m \u001b[0msel_feature\u001b[0m \u001b[0;34m=\u001b[0m \u001b[0minD\u001b[0m\u001b[0;34m[\u001b[0m\u001b[0;34m'geometry'\u001b[0m\u001b[0;34m]\u001b[0m\u001b[0;34m.\u001b[0m\u001b[0miloc\u001b[0m\u001b[0;34m[\u001b[0m\u001b[0;36m0\u001b[0m\u001b[0;34m]\u001b[0m\u001b[0;34m\u001b[0m\u001b[0;34m\u001b[0m\u001b[0m\n\u001b[0m\u001b[1;32m      2\u001b[0m \u001b[0msel_feature\u001b[0m\u001b[0;34m\u001b[0m\u001b[0;34m\u001b[0m\u001b[0m\n",
      "\u001b[0;31mNameError\u001b[0m: name 'inD' is not defined"
     ]
    }
   ],
   "source": [
    "sel_feature = inD['geometry'].iloc[0]\n",
    "sel_feature"
   ]
  },
  {
   "cell_type": "code",
   "execution_count": null,
   "metadata": {},
   "outputs": [],
   "source": []
  }
 ],
 "metadata": {
  "kernelspec": {
   "display_name": "Earth Engine",
   "language": "python",
   "name": "ee"
  },
  "language_info": {
   "codemirror_mode": {
    "name": "ipython",
    "version": 3
   },
   "file_extension": ".py",
   "mimetype": "text/x-python",
   "name": "python",
   "nbconvert_exporter": "python",
   "pygments_lexer": "ipython3",
   "version": "3.9.4"
  }
 },
 "nbformat": 4,
 "nbformat_minor": 2
}
