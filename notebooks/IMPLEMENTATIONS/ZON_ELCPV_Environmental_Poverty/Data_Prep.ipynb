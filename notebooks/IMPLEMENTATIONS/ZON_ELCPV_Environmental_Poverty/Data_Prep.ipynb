{
 "cells": [
  {
   "cell_type": "markdown",
   "metadata": {},
   "source": [
    "# Geospatial aggregates for poverty comparison\n",
    "\n",
    "In support of the ELCPV project (PXXXXXX), GOST are calculating admin 2 level summaries of a series of risk, climate, and environmental data. The focus will be on the following datasets\n",
    "\n",
    "| Data layer | Source | Link | Notes |\n",
    "| :--- | :--- | :--- | :--- |\n",
    "| Floods | Fathom | [DDH](https://datacatalog.worldbank.org/int/search/dataset/0021728/Global-Flood-Hazard--FATHOM-) | GFDRR are working on acquiring an updated dataset, need funding |\n",
    "| Drought | **TBD**  |  | One of the candidates is utilizing TerraClimate's Precipitation, Potential Evapotranspiration and Runoff to derive the SPI and SPEI as proxy for Meteorological Drought and SRI for the Hydrological Drought for period 1958-2022 |\n",
    "| Heatwave | DDP | [Github](https://github.com/datapartnership/heatwaves) | The Data Partnership have developed tools for evaluating heat waves, but it is a work in progress |\n",
    "| Cyclone | [NOAA IBTrACS](https://www.ncei.noaa.gov/products/international-best-track-archive) | S3 bucket: [IBTrACS](s3://wbgdecinternal-ntl/climate/data/cyclone/ibtracs) | Available in points and lines shapefile, netCDF and CSV. From 25 Oct 1842 to 7 Sep 2023 |\n",
    "| Wildfire | **TBD** |  | Global Fire Emissions Database [GFED](https://www.globalfiredata.org/) as one of potential data |\n",
    "| Temperature | CCKP | [Climate Change Knowledge Portal](https://climateknowledgeportal.worldbank.org/download-data) | The CCKP are working on an updated, 1/4 degree resolution dataset that we will leverage |\n",
    "| Precipitation | CCKP | [Climate Change Knowledge Portal](https://climateknowledgeportal.worldbank.org/download-data) | The CCKP are working on an updated, 1/4 degree resolution dataset that we will leverage |\n",
    "| Sea-level rise | CCKP | CCKP's [3rd party site](https://data.cckp.adamplatform.eu/InundationMaps/) | The SLR projection available for all SSP's Scenario |\n",
    "| Population | WorldPop | [WorldPop](https://www.worldpop.org/) | We hope to use the soon-to-be released Global WorldPop v2 |\n",
    "| Schools | OSM |  | Extracted via [HOT Export Tool](https://export.hotosm.org/en/v3/) |\n",
    "| Health facilities | OSM |  | [HOT Export Tool](https://export.hotosm.org/en/v3/) |\n",
    "| Road density | OSM |  | [HOT Export Tool](https://export.hotosm.org/en/v3/) |\n",
    "| Dams | **TBD** | [DDH](https://datacatalog.worldbank.org/search/dataset/0038478) | Global Dams Database available in DDH |"
   ]
  },
  {
   "cell_type": "code",
   "execution_count": 1,
   "metadata": {},
   "outputs": [
    {
     "name": "stderr",
     "output_type": "stream",
     "text": [
      "/home/wb411133/.conda/envs/ee/lib/python3.9/site-packages/geopandas/_compat.py:106: UserWarning: The Shapely GEOS version (3.9.1-CAPI-1.14.2) is incompatible with the GEOS version PyGEOS was compiled with (3.10.4-CAPI-1.16.2). Conversions between both will be slow.\n",
      "  warnings.warn(\n"
     ]
    }
   ],
   "source": [
    "import sys, os, importlib, math, multiprocessing\n",
    "import rasterio, geojson\n",
    "\n",
    "import pandas as pd\n",
    "import geopandas as gpd\n",
    "import numpy as np\n",
    "\n",
    "from h3 import h3\n",
    "from tqdm import tqdm\n",
    "from shapely.geometry import Polygon\n",
    "\n",
    "sys.path.insert(0, \"/home/wb411133/Code/gostrocks/src\")\n",
    "import GOSTRocks.rasterMisc as rMisc\n",
    "import GOSTRocks.ntlMisc as ntl\n",
    "import GOSTRocks.mapMisc as mapMisc\n",
    "from GOSTRocks.misc import tPrint\n",
    "\n",
    "sys.path.append(\"../../../src\")\n",
    "import h3_helper\n",
    "import country_zonal\n",
    "\n",
    "%load_ext autoreload\n",
    "%autoreload 2"
   ]
  },
  {
   "cell_type": "code",
   "execution_count": null,
   "metadata": {},
   "outputs": [],
   "source": []
  }
 ],
 "metadata": {
  "kernelspec": {
   "display_name": "Earth Engine",
   "language": "python",
   "name": "ee"
  },
  "language_info": {
   "codemirror_mode": {
    "name": "ipython",
    "version": 3
   },
   "file_extension": ".py",
   "mimetype": "text/x-python",
   "name": "python",
   "nbconvert_exporter": "python",
   "pygments_lexer": "ipython3",
   "version": "3.9.4"
  }
 },
 "nbformat": 4,
 "nbformat_minor": 2
}
