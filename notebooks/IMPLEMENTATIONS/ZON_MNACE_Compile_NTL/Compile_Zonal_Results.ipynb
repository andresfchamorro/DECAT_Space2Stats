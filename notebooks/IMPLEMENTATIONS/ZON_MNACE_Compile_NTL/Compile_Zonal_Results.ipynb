{
 "cells": [
  {
   "cell_type": "code",
   "execution_count": 1,
   "id": "9d9c049e",
   "metadata": {},
   "outputs": [
    {
     "name": "stderr",
     "output_type": "stream",
     "text": [
      "/home/wb411133/.conda/envs/ee/lib/python3.9/site-packages/geopandas/_compat.py:106: UserWarning: The Shapely GEOS version (3.9.1-CAPI-1.14.2) is incompatible with the GEOS version PyGEOS was compiled with (3.10.4-CAPI-1.16.2). Conversions between both will be slow.\n",
      "  warnings.warn(\n"
     ]
    }
   ],
   "source": [
    "import sys, os, importlib, math, multiprocessing, boto3, pickle\n",
    "import rasterio, geojson\n",
    "\n",
    "import pandas as pd\n",
    "import geopandas as gpd\n",
    "import numpy as np\n",
    "\n",
    "from h3 import h3\n",
    "from tqdm import tqdm\n",
    "from shapely.geometry import Polygon\n",
    "\n",
    "sys.path.insert(0, \"/home/wb411133/Code/gostrocks/src\")\n",
    "import GOSTrocks.rasterMisc as rMisc\n",
    "import GOSTrocks.ntlMisc as ntl\n",
    "import GOSTrocks.mapMisc as mapMisc\n",
    "from GOSTrocks.misc import tPrint\n",
    "\n",
    "sys.path.append(\"../../../src\")\n",
    "import h3_helper\n",
    "\n",
    "%load_ext autoreload\n",
    "%autoreload 2"
   ]
  },
  {
   "cell_type": "code",
   "execution_count": 15,
   "id": "03a4f56c",
   "metadata": {},
   "outputs": [],
   "source": [
    "# Define the AWS variables\n",
    "# Define S3 parameters\n",
    "bucket = 'wbg-geography01' \n",
    "prefix = 'Space2Stats/h3_stats_data/ADM_GLOBAL/VIIRS_Monthly_LEN'\n",
    "region = 'us-east-1'\n",
    "s3client = boto3.client('s3', region_name=region)\n",
    "\n",
    "#Define local variables\n",
    "admin_bounds = \"/home/wb411133/data/Global/ADMIN/Admin2_Polys.shp\"\n",
    "admin0_bounds = \"/home/wb411133/data/Global/ADMIN/Admin0_Polys.shp\"\n",
    "out_folder = \"/home/wb411133/projects/Space2Stats/VIIRS_ADMIN\"\n",
    "if not os.path.exists(out_folder):\n",
    "    os.makedirs(out_folder)\n"
   ]
  },
  {
   "cell_type": "code",
   "execution_count": 11,
   "id": "e043b30a",
   "metadata": {},
   "outputs": [],
   "source": [
    "inA = gpd.read_file(admin_bounds)\n",
    "inA['id'] = list(inA.index)\n",
    "inA = inA.loc[:,['WB_ADM0_NA','WB_ADM1_NA','WB_ADM2_NA','WB_REGION','id','geometry']]"
   ]
  },
  {
   "cell_type": "code",
   "execution_count": 16,
   "id": "5621f4d9",
   "metadata": {},
   "outputs": [
    {
     "name": "stdout",
     "output_type": "stream",
     "text": [
      "Completed loop: 0\n"
     ]
    }
   ],
   "source": [
    "# Search for zonal results\n",
    "# Loop through the S3 bucket and get all the keys for files that are .tif \n",
    "more_results = True\n",
    "loops = 0\n",
    "verbose=True\n",
    "good_res = []\n",
    "while more_results:\n",
    "    if verbose:\n",
    "        print(f\"Completed loop: {loops}\")\n",
    "    if loops > 0:\n",
    "        objects = s3client.list_objects_v2(Bucket=bucket, Prefix=prefix, ContinuationToken=token)\n",
    "    else:\n",
    "        objects = s3client.list_objects_v2(Bucket=bucket, Prefix=prefix)\n",
    "    more_results = objects['IsTruncated']\n",
    "    if more_results:\n",
    "        token = objects['NextContinuationToken']\n",
    "    loops += 1\n",
    "    for res in objects['Contents']:\n",
    "        if res['Key'].endswith('csv'):            \n",
    "            cur_variable = res['Key'].split(\"/\")[-3]\n",
    "            good_res.append(res['Key'])\n",
    "            \n",
    "res = {}\n",
    "for res_file in good_res:\n",
    "    final_file = f's3://{bucket}/{res_file}'\n",
    "    def_file = os.path.basename(final_file)\n",
    "    try:\n",
    "        res[def_file].append(final_file)\n",
    "    except:\n",
    "        res[def_file] = [final_file]"
   ]
  },
  {
   "cell_type": "code",
   "execution_count": 17,
   "id": "dfcdcc10",
   "metadata": {
    "scrolled": true
   },
   "outputs": [
    {
     "name": "stdout",
     "output_type": "stream",
     "text": [
      "16:26:55\tDNB_j01_20230601-20230630_global_ecm-slcorr_v10_ops\n",
      "16:26:57\tDNB_j01_20230701-20230731_global_ecm-slcorr_v10_ops\n",
      "16:26:57\tDNB_j01_20230901-20230930_global_ecm-slcorr_v10_ops\n",
      "16:26:59\tDNB_j01_20231001-20231031_global_ecm-slcorr_v10_ops\n",
      "16:26:59\tDNB_j01_20231101-20231130_global_ecm-slcorr_v10_ops\n",
      "16:26:59\tDNB_j01_20231201-20231231_global_ecm-slcorr_v10_ops\n",
      "16:27:01\tDNB_j01_20240101-20240131_global_ecm-slcorr_v10_ops\n",
      "16:27:02\tDNB_j01_20240201-20240229_global_ecm-slcorr_v10_ops\n",
      "16:27:02\tDNB_j01_20240301-20240331_global_ecm-slcorr_v10_ops\n",
      "16:27:04\tDNB_j01_20240401-20240430_global_ecm-slcorr_v10_ops\n",
      "16:27:04\tDNB_j01_20240501-20240531_global_ecm-slcorr_v10_ops\n",
      "16:27:06\tDNB_npp_20120119-20120131_global_vcm-slcorr_v10_rp2\n",
      "16:27:07\tDNB_npp_20120201-20120229_global_vcm-slcorr_v10_rp2\n",
      "16:27:07\tDNB_npp_20120301-20120331_global_vcm-slcorr_v10_rp2\n",
      "16:27:09\tDNB_npp_20120401-20120430_global_vcm-slcorr_v10_rp2\n",
      "16:27:09\tDNB_npp_20120501-20120531_global_vcm-slcorr_v10_rp2\n",
      "16:27:09\tDNB_npp_20120601-20120630_global_vcm-slcorr_v10_rp2\n",
      "16:27:11\tDNB_npp_20120701-20120731_global_vcm-slcorr_v10_rp2\n",
      "16:27:12\tDNB_npp_20120801-20120831_global_vcm-slcorr_v10_rp2\n",
      "16:27:12\tDNB_npp_20120901-20120930_global_vcm-slcorr_v10_rp2\n",
      "16:27:14\tDNB_npp_20121001-20121031_global_vcm-slcorr_v10_rp2\n",
      "16:27:14\tDNB_npp_20121101-20121130_global_vcm-slcorr_v10_rp2\n",
      "16:27:14\tDNB_npp_20121201-20121231_global_vcm-slcorr_v10_rp2\n",
      "16:27:16\tDNB_npp_20130101-20130131_global_vcm-slcorr_v10_rp2\n",
      "16:27:16\tDNB_npp_20130201-20130228_global_vcm-slcorr_v10_rp2\n",
      "16:27:17\tDNB_npp_20130301-20130331_global_vcm-slcorr_v10_rp2\n",
      "16:27:19\tDNB_npp_20130401-20130430_global_vcm-slcorr_v10_rp2\n",
      "16:27:19\tDNB_npp_20130501-20130531_global_vcm-slcorr_v10_rp2\n",
      "16:27:19\tDNB_npp_20130601-20130630_global_vcm-slcorr_v10_rp2\n",
      "16:27:21\tDNB_npp_20130701-20221231_global_vcm-slcorr_v10_rp2\n",
      "16:27:22\tDNB_npp_20130801-20130831_global_vcm-slcorr_v10_rp2\n",
      "16:27:22\tDNB_npp_20130901-20130930_global_vcm-slcorr_v10_rp2\n",
      "16:27:24\tDNB_npp_20131001-20131031_global_vcm-slcorr_v10_rp2\n",
      "16:27:24\tDNB_npp_20131101-20131130_global_vcm-slcorr_v10_rp2\n",
      "16:27:24\tDNB_npp_20131201-20131231_global_vcm-slcorr_v10_rp2\n",
      "16:27:26\tDNB_npp_20140101-20140131_global_vcm-slcorr_v10_rp2\n",
      "16:27:26\tDNB_npp_20140201-20140228_global_vcm-slcorr_v10_rp2\n",
      "16:27:28\tDNB_npp_20140401-20140430_global_vcm-slcorr_v10_rp2\n",
      "16:27:29\tDNB_npp_20140501-20140531_global_vcm-slcorr_v10_rp2\n",
      "16:27:29\tDNB_npp_20140601-20140630_global_vcm-slcorr_v10_rp2\n",
      "16:27:31\tDNB_npp_20140701-20140731_global_vcm-slcorr_v10_rp2\n",
      "16:27:31\tDNB_npp_20140801-20140831_global_vcm-slcorr_v10_rp2\n",
      "16:27:31\tDNB_npp_20140901-20140930_global_vcm-slcorr_v10_rp2\n",
      "16:27:33\tDNB_npp_20141001-20141031_global_vcm-slcorr_v10_rp2\n",
      "16:27:34\tDNB_npp_20141101-20141130_global_vcm-slcorr_v10_rp2\n",
      "16:27:34\tDNB_npp_20141201-20141231_global_vcm-slcorr_v10_rp2\n",
      "16:27:36\tDNB_npp_20150101-20150131_global_vcm-slcorr_v10_rp2\n",
      "16:27:36\tDNB_npp_20150201-20150228_global_vcm-slcorr_v10_rp2\n",
      "16:27:36\tDNB_npp_20150301-20150331_global_vcm-slcorr_v10_rp2\n",
      "16:27:38\tDNB_npp_20150401-20150430_global_vcm-slcorr_v10_rp2\n",
      "16:27:38\tDNB_npp_20150501-20150531_global_vcm-slcorr_v10_rp2\n",
      "16:27:39\tDNB_npp_20150601-20150630_global_vcm-slcorr_v10_rp2\n",
      "16:27:40\tDNB_npp_20150701-20150731_global_vcm-slcorr_v10_rp2\n",
      "16:27:41\tDNB_npp_20150801-20150831_global_vcm-slcorr_v10_rp2\n",
      "16:27:41\tDNB_npp_20150901-20150930_global_vcm-slcorr_v10_rp2\n",
      "16:27:43\tDNB_npp_20151001-20151031_global_vcm-slcorr_v10_rp2\n",
      "16:27:43\tDNB_npp_20151101-20151130_global_vcm-slcorr_v10_rp2\n",
      "16:27:44\tDNB_npp_20151201-20151231_global_vcm-slcorr_v10_rp2\n",
      "16:27:46\tDNB_npp_20160101-20160131_global_vcm-slcorr_v10_rp2\n",
      "16:27:46\tDNB_npp_20160201-20160229_global_vcm-slcorr_v10_rp2\n",
      "16:27:46\tDNB_npp_20160301-20160331_global_vcm-slcorr_v10_rp2\n",
      "16:27:48\tDNB_npp_20160401-20160430_global_vcm-slcorr_v10_rp2\n",
      "16:27:48\tDNB_npp_20160501-20160531_global_vcm-slcorr_v10_rp2\n",
      "16:27:48\tDNB_npp_20160601-20160630_global_vcm-slcorr_v10_rp2\n",
      "16:27:51\tDNB_npp_20160701-20160731_global_vcm-slcorr_v10_rp2\n",
      "16:27:51\tDNB_npp_20160801-20160831_global_vcm-slcorr_v10_rp2\n",
      "16:27:51\tDNB_npp_20160901-20160930_global_vcm-slcorr_v10_rp2\n",
      "16:27:53\tDNB_npp_20161001-20161031_global_vcm-slcorr_v10_rp2\n",
      "16:27:53\tDNB_npp_20161101-20161130_global_vcm-slcorr_v10_rp2\n",
      "16:27:54\tDNB_npp_20161201-20161231_global_vcm-slcorr_v10_rp2\n",
      "16:27:55\tDNB_npp_20170101-20170131_global_vcm-slcorr_v10_rp2\n",
      "16:27:56\tDNB_npp_20170201-20170228_global_vcm-slcorr_v10_rp2\n",
      "16:27:56\tDNB_npp_20170301-20170331_global_vcm-slcorr_v10_rp2\n",
      "16:27:58\tDNB_npp_20170401-20170430_global_vcm-slcorr_v10_ops\n",
      "16:27:58\tDNB_npp_20170501-20170531_global_vcm-slcorr_v10_ops\n",
      "16:27:59\tDNB_npp_20170601-20170630_global_vcm-slcorr_v10_ops\n",
      "16:28:00\tDNB_npp_20170701-20170731_global_vcm-slcorr_v10_ops\n",
      "16:28:01\tDNB_npp_20170801-20170831_global_vcm-slcorr_v10_ops\n",
      "16:28:01\tDNB_npp_20170901-20170930_global_vcm-slcorr_v10_ops\n",
      "16:28:03\tDNB_npp_20171001-20171031_global_vcm-slcorr_v10_ops\n",
      "16:28:03\tDNB_npp_20171101-20171130_global_vcm-slcorr_v10_ops\n",
      "16:28:03\tDNB_npp_20171201-20171231_global_vcm-slcorr_v10_ops\n",
      "16:28:05\tDNB_npp_20180101-20180131_global_ecm-slcorr_v10_ops\n",
      "16:28:06\tDNB_npp_20180201-20180228_global_ecm-slcorr_v10_ops\n",
      "16:28:06\tDNB_npp_20180301-20180331_global_ecm-slcorr_v10_ops\n",
      "16:28:07\tDNB_npp_20180401-20180430_global_ecm-slcorr_v10_ops\n",
      "16:28:08\tDNB_npp_20180501-20180531_global_ecm-slcorr_v10_ops\n",
      "16:28:08\tDNB_npp_20180601-20180630_global_ecm-slcorr_v10_ops\n",
      "16:28:10\tDNB_npp_20180701-20180731_global_ecm-slcorr_v10_ops\n",
      "16:28:10\tDNB_npp_20180801-20180831_global_ecm-slcorr_v10_ops\n",
      "16:28:10\tDNB_npp_20180901-20180930_global_ecm-slcorr_v10_ops\n",
      "16:28:12\tDNB_npp_20181001-20181031_global_ecm-slcorr_v10_ops\n",
      "16:28:13\tDNB_npp_20181101-20181130_global_ecm-slcorr_v10_ops\n",
      "16:28:13\tDNB_npp_20181201-20181231_global_ecm-slcorr_v10_ops\n",
      "16:28:15\tDNB_npp_20190101-20190131_global_ecm-slcorr_v10_ops\n",
      "16:28:15\tDNB_npp_20190201-20190228_global_ecm-slcorr_v10_ops\n",
      "16:28:15\tDNB_npp_20190301-20190331_global_ecm-slcorr_v10_ops\n",
      "16:28:17\tDNB_npp_20190401-20190430_global_ecm-slcorr_v10_ops\n",
      "16:28:18\tDNB_npp_20190501-20190531_global_ecm-slcorr_v10_ops\n",
      "16:28:18\tDNB_npp_20190601-20190630_global_ecm-slcorr_v10_ops\n",
      "16:28:20\tDNB_npp_20190701-20190731_global_ecm-slcorr_v10_ops\n",
      "16:28:20\tDNB_npp_20190801-20190831_global_ecm-slcorr_v10_ops\n",
      "16:28:20\tDNB_npp_20190901-20190930_global_ecm-slcorr_v10_ops\n",
      "16:28:22\tDNB_npp_20191001-20191031_global_ecm-slcorr_v10_ops\n",
      "16:28:23\tDNB_npp_20191101-20191130_global_ecm-slcorr_v10_ops\n",
      "16:28:23\tDNB_npp_20191201-20191231_global_ecm-slcorr_v10_ops\n",
      "16:28:25\tDNB_npp_20200101-20200131_global_ecm-slcorr_v10_ops\n",
      "16:28:25\tDNB_npp_20200201-20200229_global_ecm-slcorr_v10_ops\n",
      "16:28:25\tDNB_npp_20200301-20200331_global_ecm-slcorr_v10_ops\n",
      "16:28:27\tDNB_npp_20200401-20200430_global_ecm-slcorr_v10_ops\n",
      "16:28:28\tDNB_npp_20200501-20200531_global_ecm-slcorr_v10_ops\n",
      "16:28:28\tDNB_npp_20200601-20200630_global_ecm-slcorr_v10_ops\n",
      "16:28:30\tDNB_npp_20200701-20200731_global_ecm-slcorr_v10_ops\n",
      "16:28:30\tDNB_npp_20200801-20200831_global_ecm-slcorr_v10_ops\n",
      "16:28:30\tDNB_npp_20200901-20200930_global_ecm-slcorr_v10_ops\n",
      "16:28:32\tDNB_npp_20201001-20201031_global_ecm-slcorr_v10_ops\n",
      "16:28:33\tDNB_npp_20201101-20201130_global_ecm-slcorr_v10_ops\n",
      "16:28:33\tDNB_npp_20201201-20201231_global_ecm-slcorr_v10_ops\n",
      "16:28:35\tDNB_npp_20210101-20210131_global_ecm-slcorr_v10_ops\n",
      "16:28:35\tDNB_npp_20210201-20210228_global_ecm-slcorr_v10_ops\n",
      "16:28:35\tDNB_npp_20210301-20210331_global_ecm-slcorr_v10_ops\n",
      "16:28:37\tDNB_npp_20210401-20210430_global_ecm-slcorr_v10_ops\n",
      "16:28:38\tDNB_npp_20210501-20210531_global_ecm-slcorr_v10_ops\n",
      "16:28:38\tDNB_npp_20210601-20210630_global_ecm-slcorr_v10_ops\n",
      "16:28:40\tDNB_npp_20210701-20210731_global_ecm-slcorr_v10_ops\n",
      "16:28:40\tDNB_npp_20210901-20210930_global_ecm-slcorr_v10_ops\n",
      "16:28:42\tDNB_npp_20211001-20211031_global_ecm-slcorr_v10_ops\n",
      "16:28:42\tDNB_npp_20211101-20211130_global_ecm-slcorr_v10_ops\n",
      "16:28:43\tDNB_npp_20211201-20211231_global_ecm-slcorr_v10_ops\n",
      "16:28:45\tDNB_npp_20220101-20220131_global_ecm-slcorr_v10_ops\n",
      "16:28:45\tDNB_npp_20220201-20220228_global_ecm-slcorr_v10_ops\n",
      "16:28:45\tDNB_npp_20220301-20220331_global_ecm-slcorr_v10_ops\n",
      "16:28:47\tDNB_npp_20220401-20220430_global_ecm-slcorr_v10_ops\n",
      "16:28:47\tDNB_npp_20220501-20220531_global_ecm-slcorr_v10_ops\n",
      "16:28:49\tDNB_npp_20220701-20220731_global_ecm-slcorr_v10_ops\n"
     ]
    },
    {
     "name": "stdout",
     "output_type": "stream",
     "text": [
      "16:28:49\tDNB_npp_20220901-20220930_global_ecm-slcorr_v10_ops\n",
      "16:28:51\tDNB_npp_20221001-20221031_global_ecm-slcorr_v10_ops\n",
      "16:28:52\tDNB_npp_20221101-20221130_global_ecm-slcorr_v10_ops\n",
      "16:28:52\tDNB_npp_20221201-20221231_global_ecm-slcorr_v10_ops\n",
      "16:28:54\tDNB_npp_20230101-20230131_global_ecm-slcorr_v10_ops\n",
      "16:28:54\tDNB_npp_20230201-20230228_global_ecm-slcorr_v10_ops\n",
      "16:28:54\tDNB_npp_20230301-20230331_global_ecm-slcorr_v10_ops\n",
      "16:28:56\tDNB_npp_20230401-20230430_global_ecm-slcorr_v10_ops\n",
      "16:28:56\tDNB_npp_20230501-20230531_global_ecm-slcorr_v10_ops\n",
      "16:28:57\tDNB_npp_20230601-20230630_global_ecm-slcorr_v10_ops\n",
      "16:28:59\tDNB_npp_20230701-20230731_global_ecm-slcorr_v10_ops\n",
      "16:28:59\tDNB_npp_20230801-20230831_global_ecm-slcorr_v10_ops\n",
      "16:29:00\tDNB_npp_20230901-20230930_global_ecm-slcorr_v10_ops\n",
      "16:29:02\tDNB_npp_20231001-20231031_global_ecm-slcorr_v10_ops\n",
      "16:29:02\tDNB_npp_20231101-20231130_global_ecm-slcorr_v10_ops\n",
      "16:29:02\tDNB_npp_20231201-20231231_global_ecm-slcorr_v10_ops\n",
      "16:29:04\tDNB_npp_20240101-20240131_global_ecm-slcorr_v10_ops\n",
      "16:29:04\tDNB_npp_20240201-20240229_global_ecm-slcorr_v10_ops\n",
      "16:29:05\tDNB_npp_20240301-20240331_global_ecm-slcorr_v10_ops\n",
      "16:29:07\tDNB_npp_20240401-20240430_global_ecm-slcorr_v10_ops\n",
      "16:29:07\tDNB_npp_20240501-20240531_global_ecm-slcorr_v10_ops\n"
     ]
    }
   ],
   "source": [
    "for key, items in res.items():\n",
    "    key = key.split(\".\")[0]\n",
    "    all_res_file = os.path.join(out_folder, f'ZONAL_ADMIN2_{key}.csv')\n",
    "    national_res_file = os.path.join(out_folder, f'ZONAL_National_{key}.csv')\n",
    "    \n",
    "    all_dfs = [pd.read_csv(x) for x in items]\n",
    "    combo_res = pd.concat(all_dfs)\n",
    "    all_res = pd.merge(inA, combo_res, on='id')\n",
    "    pd.DataFrame(all_res).drop(['geometry'], axis=1).to_csv(all_res_file)\n",
    "    \n",
    "    adm0_res = all_res.groupby(['WB_ADM0_NA']).agg({\"SUM\":'sum','WB_ADM2_NA':'count'}).reset_index()\n",
    "    adm0_res.columns = ['WB_ADM0_NA', 'SUM_of_Lights', 'ADM2_Count']\n",
    "    adm0_res.to_csv(national_res_file)\n",
    "    \n",
    "    tPrint(key)"
   ]
  },
  {
   "cell_type": "code",
   "execution_count": 38,
   "id": "aa4a12c5",
   "metadata": {
    "scrolled": true
   },
   "outputs": [],
   "source": [
    "national_res_files = [os.path.join(out_folder, x) for x in os.listdir(out_folder) if \"National\" in x]\n",
    "national_summary = inA.copy()\n",
    "good_months = ['01','04','07','10']\n",
    "try:\n",
    "    del(final)\n",
    "except:\n",
    "    pass\n",
    "for nfile in national_res_files:\n",
    "    date = os.path.basename(nfile).split(\"_\")[4][:8]\n",
    "    try:\n",
    "        month = date[4:6]\n",
    "        date = int(date)\n",
    "        if month in good_months:\n",
    "            curD = pd.read_csv(nfile, index_col=0)\n",
    "            try:\n",
    "                final[f'SoL_{date}'] = curD['SUM_of_Lights']\n",
    "            except:\n",
    "                curD = curD.drop(['ADM2_Count'], axis=1)\n",
    "                curD.columns = ['AAA_WB_ADM0_NA',f'SoL_{date}']\n",
    "                final = curD                \n",
    "    except:\n",
    "        pass"
   ]
  },
  {
   "cell_type": "code",
   "execution_count": 41,
   "id": "74b9b910",
   "metadata": {},
   "outputs": [],
   "source": [
    "final = final.reindex(sorted(final.columns), axis=1)\n",
    "final.to_csv(\"Quarterly_NTL_zonal_sums.csv\")"
   ]
  },
  {
   "cell_type": "code",
   "execution_count": 18,
   "id": "506e663a",
   "metadata": {},
   "outputs": [
    {
     "ename": "ValueError",
     "evalue": "invalid literal for int() with base 10: '20230601-20230630'",
     "output_type": "error",
     "traceback": [
      "\u001b[0;31m---------------------------------------------------------------------------\u001b[0m",
      "\u001b[0;31mValueError\u001b[0m                                Traceback (most recent call last)",
      "\u001b[0;32m<ipython-input-18-137b3c3b3605>\u001b[0m in \u001b[0;36m<module>\u001b[0;34m\u001b[0m\n\u001b[1;32m      5\u001b[0m     \u001b[0;32mtry\u001b[0m\u001b[0;34m:\u001b[0m\u001b[0;34m\u001b[0m\u001b[0;34m\u001b[0m\u001b[0m\n\u001b[0;32m----> 6\u001b[0;31m         \u001b[0myear\u001b[0m \u001b[0;34m=\u001b[0m \u001b[0;34m(\u001b[0m\u001b[0mint\u001b[0m\u001b[0;34m(\u001b[0m\u001b[0myear\u001b[0m\u001b[0;34m)\u001b[0m\u001b[0;34m)\u001b[0m\u001b[0;34m\u001b[0m\u001b[0;34m\u001b[0m\u001b[0m\n\u001b[0m\u001b[1;32m      7\u001b[0m     \u001b[0;32mexcept\u001b[0m\u001b[0;34m:\u001b[0m\u001b[0;34m\u001b[0m\u001b[0;34m\u001b[0m\u001b[0m\n",
      "\u001b[0;31mValueError\u001b[0m: invalid literal for int() with base 10: 'global'",
      "\nDuring handling of the above exception, another exception occurred:\n",
      "\u001b[0;31mValueError\u001b[0m                                Traceback (most recent call last)",
      "\u001b[0;32m<ipython-input-18-137b3c3b3605>\u001b[0m in \u001b[0;36m<module>\u001b[0;34m\u001b[0m\n\u001b[1;32m      7\u001b[0m     \u001b[0;32mexcept\u001b[0m\u001b[0;34m:\u001b[0m\u001b[0;34m\u001b[0m\u001b[0;34m\u001b[0m\u001b[0m\n\u001b[1;32m      8\u001b[0m         \u001b[0myear\u001b[0m \u001b[0;34m=\u001b[0m \u001b[0mos\u001b[0m\u001b[0;34m.\u001b[0m\u001b[0mpath\u001b[0m\u001b[0;34m.\u001b[0m\u001b[0mbasename\u001b[0m\u001b[0;34m(\u001b[0m\u001b[0mnfile\u001b[0m\u001b[0;34m)\u001b[0m\u001b[0;34m.\u001b[0m\u001b[0msplit\u001b[0m\u001b[0;34m(\u001b[0m\u001b[0;34m\"_\"\u001b[0m\u001b[0;34m)\u001b[0m\u001b[0;34m[\u001b[0m\u001b[0;36m4\u001b[0m\u001b[0;34m]\u001b[0m\u001b[0;34m\u001b[0m\u001b[0;34m\u001b[0m\u001b[0m\n\u001b[0;32m----> 9\u001b[0;31m         \u001b[0myear\u001b[0m \u001b[0;34m=\u001b[0m \u001b[0;34m(\u001b[0m\u001b[0mint\u001b[0m\u001b[0;34m(\u001b[0m\u001b[0myear\u001b[0m\u001b[0;34m)\u001b[0m\u001b[0;34m)\u001b[0m\u001b[0;34m\u001b[0m\u001b[0;34m\u001b[0m\u001b[0m\n\u001b[0m\u001b[1;32m     10\u001b[0m     \u001b[0mcurD\u001b[0m \u001b[0;34m=\u001b[0m \u001b[0mpd\u001b[0m\u001b[0;34m.\u001b[0m\u001b[0mread_csv\u001b[0m\u001b[0;34m(\u001b[0m\u001b[0mnfile\u001b[0m\u001b[0;34m,\u001b[0m \u001b[0mindex_col\u001b[0m\u001b[0;34m=\u001b[0m\u001b[0;36m0\u001b[0m\u001b[0;34m)\u001b[0m\u001b[0;34m\u001b[0m\u001b[0;34m\u001b[0m\u001b[0m\n\u001b[1;32m     11\u001b[0m     \u001b[0;32mif\u001b[0m \u001b[0mnfile\u001b[0m \u001b[0;34m==\u001b[0m \u001b[0mnational_res_files\u001b[0m\u001b[0;34m[\u001b[0m\u001b[0;36m0\u001b[0m\u001b[0;34m]\u001b[0m\u001b[0;34m:\u001b[0m\u001b[0;34m\u001b[0m\u001b[0;34m\u001b[0m\u001b[0m\n",
      "\u001b[0;31mValueError\u001b[0m: invalid literal for int() with base 10: '20230601-20230630'"
     ]
    }
   ],
   "source": [
    "national_res_files = [os.path.join(out_folder, x) for x in os.listdir(out_folder) if \"National\" in x]\n",
    "national_summary = inA.copy()\n",
    "for nfile in national_res_files:\n",
    "    year = os.path.basename(nfile).split(\"_\")[5]\n",
    "    try:\n",
    "        year = (int(year))\n",
    "    except:\n",
    "        year = os.path.basename(nfile).split(\"_\")[4]\n",
    "        year = (int(year))\n",
    "    curD = pd.read_csv(nfile, index_col=0)\n",
    "    if nfile == national_res_files[0]:\n",
    "        curD = curD.drop(['ADM2_Count'], axis=1)\n",
    "        curD.columns = ['WB_ADM0_NA',f'SoL_{year}']\n",
    "        final = curD\n",
    "    else:\n",
    "        final[f'SoL_{year}'] = curD['SUM_of_Lights']"
   ]
  },
  {
   "cell_type": "code",
   "execution_count": null,
   "id": "6cd5a5f9",
   "metadata": {},
   "outputs": [],
   "source": [
    "final.head()"
   ]
  },
  {
   "cell_type": "code",
   "execution_count": null,
   "id": "4ee424a1",
   "metadata": {},
   "outputs": [],
   "source": [
    "final.to_csv(f'{out_folder}_national_summaries.csv')"
   ]
  },
  {
   "cell_type": "code",
   "execution_count": null,
   "id": "b1fb067d",
   "metadata": {},
   "outputs": [],
   "source": [
    "adm0 = [curD.dissolve() for lbl, curD in inA.groupby('WB_ADM0_NA')]\n",
    "adm0"
   ]
  },
  {
   "cell_type": "code",
   "execution_count": null,
   "id": "0cf15926",
   "metadata": {},
   "outputs": [],
   "source": [
    "adm0_full = pd.concat(adm0)\n",
    "adm0_full = gpd.GeoDataFrame(adm0_full, geometry='geometry', crs=4326)\n",
    "adm0_full = adm0_full.drop(['WB_ADM1_NA','WB_ADM2_NA','id'], axis=1)\n",
    "adm0_full.to_file(f'{out_folder}_ADM0_bounds.geojson', driver='GeoJSON')"
   ]
  },
  {
   "cell_type": "code",
   "execution_count": null,
   "id": "010d8328",
   "metadata": {},
   "outputs": [],
   "source": []
  }
 ],
 "metadata": {
  "kernelspec": {
   "display_name": "Earth Engine",
   "language": "python",
   "name": "ee"
  },
  "language_info": {
   "codemirror_mode": {
    "name": "ipython",
    "version": 3
   },
   "file_extension": ".py",
   "mimetype": "text/x-python",
   "name": "python",
   "nbconvert_exporter": "python",
   "pygments_lexer": "ipython3",
   "version": "3.9.4"
  }
 },
 "nbformat": 4,
 "nbformat_minor": 5
}
