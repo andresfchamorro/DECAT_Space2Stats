{
 "cells": [
  {
   "cell_type": "code",
   "execution_count": 4,
   "metadata": {},
   "outputs": [
    {
     "name": "stdout",
     "output_type": "stream",
     "text": [
      "Coordinates of Squamish: (49.6980743, -123.1558612)\n",
      "Tile(x=326, y=354, z=9)\n",
      "303200130\n"
     ]
    },
    {
     "ename": "NameError",
     "evalue": "name 's2_cell_id' is not defined",
     "output_type": "error",
     "traceback": [
      "\u001b[0;31m---------------------------------------------------------------------------\u001b[0m",
      "\u001b[0;31mNameError\u001b[0m                                 Traceback (most recent call last)",
      "Cell \u001b[0;32mIn[4], line 27\u001b[0m\n\u001b[1;32m     22\u001b[0m level \u001b[38;5;241m=\u001b[39m \u001b[38;5;241m11\u001b[39m\n\u001b[1;32m     24\u001b[0m \u001b[38;5;66;03m# Get S2 cell ID at level 11\u001b[39;00m\n\u001b[1;32m     25\u001b[0m \n\u001b[1;32m     26\u001b[0m \u001b[38;5;66;03m# Print the S2 cell ID\u001b[39;00m\n\u001b[0;32m---> 27\u001b[0m \u001b[38;5;28mprint\u001b[39m(\u001b[38;5;124mf\u001b[39m\u001b[38;5;124m\"\u001b[39m\u001b[38;5;124mS2 Cell ID at level \u001b[39m\u001b[38;5;132;01m{\u001b[39;00mlevel\u001b[38;5;132;01m}\u001b[39;00m\u001b[38;5;124m: \u001b[39m\u001b[38;5;132;01m{\u001b[39;00m\u001b[43ms2_cell_id\u001b[49m\u001b[38;5;132;01m}\u001b[39;00m\u001b[38;5;124m\"\u001b[39m)\n",
      "\u001b[0;31mNameError\u001b[0m: name 's2_cell_id' is not defined"
     ]
    }
   ],
   "source": [
    "from geopy.geocoders import Nominatim\n",
    "from mercantile import quadkey, tile\n",
    "\n",
    "\n",
    "# Geocode Squamish\n",
    "geolocator = Nominatim(user_agent=\"squamish_geocode\")\n",
    "location = geolocator.geocode(\"Squamish, BC, Canada\")\n",
    "\n",
    "latitude = location.latitude\n",
    "longitude = location.longitude\n",
    "\n",
    "print(f\"Coordinates of Squamish: ({latitude}, {longitude})\")\n",
    "\n",
    "zoom = 9\n",
    "t = tile(latitude, longitude, zoom)\n",
    "print(t)\n",
    "\n",
    "q = quadkey(t.x, t.y, zoom)\n",
    "print(q)"
   ]
  }
 ],
 "metadata": {
  "kernelspec": {
   "display_name": "notebooks-sNYx7QfP-py3.12",
   "language": "python",
   "name": "python3"
  },
  "language_info": {
   "codemirror_mode": {
    "name": "ipython",
    "version": 3
   },
   "file_extension": ".py",
   "mimetype": "text/x-python",
   "name": "python",
   "nbconvert_exporter": "python",
   "pygments_lexer": "ipython3",
   "version": "3.12.2"
  }
 },
 "nbformat": 4,
 "nbformat_minor": 2
}
