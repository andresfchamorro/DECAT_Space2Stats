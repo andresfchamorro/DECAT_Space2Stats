{
 "cells": [
  {
   "cell_type": "code",
   "execution_count": 14,
   "id": "3a78f82e",
   "metadata": {},
   "outputs": [],
   "source": [
    "%%capture output \n",
    "%pip install boto3 pandas pyarrow python-dotenv h3 geopandas matplotlib shapely"
   ]
  },
  {
   "cell_type": "code",
   "execution_count": 15,
   "id": "ecd5c8e1",
   "metadata": {},
   "outputs": [],
   "source": [
    "import boto3\n",
    "import pandas as pd\n",
    "from dotenv import load_dotenv\n",
    "import os\n",
    "import io\n",
    "import h3\n",
    "import geopandas as gpd\n",
    "import matplotlib.pyplot as plt\n",
    "from shapely.geometry import Point\n"
   ]
  },
  {
   "cell_type": "code",
   "execution_count": 16,
   "id": "705cb715",
   "metadata": {},
   "outputs": [
    {
     "data": {
      "text/plain": [
       "True"
      ]
     },
     "execution_count": 16,
     "metadata": {},
     "output_type": "execute_result"
    }
   ],
   "source": [
    "load_dotenv('../wb_aws.env')"
   ]
  },
  {
   "cell_type": "code",
   "execution_count": 17,
   "id": "268595cc",
   "metadata": {},
   "outputs": [],
   "source": [
    "session = boto3.Session(\n",
    "    aws_access_key_id=os.getenv('AWS_ACCESS_KEY_ID'),\n",
    "    aws_secret_access_key=os.getenv('AWS_SECRET_ACCESS_KEY'),\n",
    "    region_name=os.getenv('AWS_REGION')\n",
    ")\n",
    "\n",
    "s3_client = session.client('s3')"
   ]
  },
  {
   "cell_type": "code",
   "execution_count": 18,
   "id": "866558b6",
   "metadata": {},
   "outputs": [],
   "source": [
    "bucket_name = 'wbg-geography01'\n",
    "folder_path = 'Space2Stats/parquet/GLOBAL/WorldPop_2020_Demographics/'"
   ]
  },
  {
   "cell_type": "code",
   "execution_count": 27,
   "id": "e68e6ca4",
   "metadata": {},
   "outputs": [
    {
     "name": "stdout",
     "output_type": "stream",
     "text": [
      "Space2Stats/parquet/GLOBAL/WorldPop_2020_Demographics/f_0_2020.parquet 243987093 Bytes\n",
      "Space2Stats/parquet/GLOBAL/WorldPop_2020_Demographics/f_10_2020.parquet 242133942 Bytes\n",
      "Space2Stats/parquet/GLOBAL/WorldPop_2020_Demographics/f_15_2020.parquet 242227987 Bytes\n",
      "Space2Stats/parquet/GLOBAL/WorldPop_2020_Demographics/f_1_2020.parquet 242309771 Bytes\n",
      "Space2Stats/parquet/GLOBAL/WorldPop_2020_Demographics/f_20_2020.parquet 242344428 Bytes\n",
      "Space2Stats/parquet/GLOBAL/WorldPop_2020_Demographics/f_25_2020.parquet 242355331 Bytes\n",
      "Space2Stats/parquet/GLOBAL/WorldPop_2020_Demographics/f_30_2020.parquet 242410897 Bytes\n",
      "Space2Stats/parquet/GLOBAL/WorldPop_2020_Demographics/f_35_2020.parquet 242564785 Bytes\n",
      "Space2Stats/parquet/GLOBAL/WorldPop_2020_Demographics/f_40_2020.parquet 242742899 Bytes\n",
      "Space2Stats/parquet/GLOBAL/WorldPop_2020_Demographics/f_45_2020.parquet 242939383 Bytes\n",
      "Space2Stats/parquet/GLOBAL/WorldPop_2020_Demographics/f_50_2020.parquet 243118293 Bytes\n",
      "Space2Stats/parquet/GLOBAL/WorldPop_2020_Demographics/f_55_2020.parquet 243366870 Bytes\n",
      "Space2Stats/parquet/GLOBAL/WorldPop_2020_Demographics/f_5_2020.parquet 242040292 Bytes\n",
      "Space2Stats/parquet/GLOBAL/WorldPop_2020_Demographics/f_60_2020.parquet 243515359 Bytes\n",
      "Space2Stats/parquet/GLOBAL/WorldPop_2020_Demographics/f_65_2020.parquet 243784804 Bytes\n",
      "Space2Stats/parquet/GLOBAL/WorldPop_2020_Demographics/f_70_2020.parquet 244252075 Bytes\n",
      "Space2Stats/parquet/GLOBAL/WorldPop_2020_Demographics/f_75_2020.parquet 244797834 Bytes\n",
      "Space2Stats/parquet/GLOBAL/WorldPop_2020_Demographics/f_80_2020.parquet 244827093 Bytes\n",
      "Space2Stats/parquet/GLOBAL/WorldPop_2020_Demographics/m_0_2020.parquet 243980006 Bytes\n",
      "Space2Stats/parquet/GLOBAL/WorldPop_2020_Demographics/m_10_2020.parquet 242067895 Bytes\n",
      "Space2Stats/parquet/GLOBAL/WorldPop_2020_Demographics/m_15_2020.parquet 242170021 Bytes\n",
      "Space2Stats/parquet/GLOBAL/WorldPop_2020_Demographics/m_1_2020.parquet 242260048 Bytes\n",
      "Space2Stats/parquet/GLOBAL/WorldPop_2020_Demographics/m_20_2020.parquet 242327222 Bytes\n",
      "Space2Stats/parquet/GLOBAL/WorldPop_2020_Demographics/m_25_2020.parquet 242331348 Bytes\n",
      "Space2Stats/parquet/GLOBAL/WorldPop_2020_Demographics/m_30_2020.parquet 242384388 Bytes\n",
      "Space2Stats/parquet/GLOBAL/WorldPop_2020_Demographics/m_35_2020.parquet 242503740 Bytes\n",
      "Space2Stats/parquet/GLOBAL/WorldPop_2020_Demographics/m_40_2020.parquet 242675158 Bytes\n",
      "Space2Stats/parquet/GLOBAL/WorldPop_2020_Demographics/m_45_2020.parquet 242869248 Bytes\n",
      "Space2Stats/parquet/GLOBAL/WorldPop_2020_Demographics/m_50_2020.parquet 243055565 Bytes\n",
      "Space2Stats/parquet/GLOBAL/WorldPop_2020_Demographics/m_55_2020.parquet 243319048 Bytes\n",
      "Space2Stats/parquet/GLOBAL/WorldPop_2020_Demographics/m_5_2020.parquet 241987974 Bytes\n",
      "Space2Stats/parquet/GLOBAL/WorldPop_2020_Demographics/m_60_2020.parquet 243516194 Bytes\n",
      "Space2Stats/parquet/GLOBAL/WorldPop_2020_Demographics/m_65_2020.parquet 243791810 Bytes\n",
      "Space2Stats/parquet/GLOBAL/WorldPop_2020_Demographics/m_70_2020.parquet 244300026 Bytes\n",
      "Space2Stats/parquet/GLOBAL/WorldPop_2020_Demographics/m_75_2020.parquet 244884619 Bytes\n",
      "Space2Stats/parquet/GLOBAL/WorldPop_2020_Demographics/m_80_2020.parquet 245086063 Bytes\n"
     ]
    }
   ],
   "source": [
    "response = s3_client.list_objects_v2(Bucket=bucket_name, Prefix=folder_path)\n",
    "for obj in response['Contents']:\n",
    "    print(f\"{obj['Key']} {obj['Size']} Bytes\")\n"
   ]
  },
  {
   "cell_type": "code",
   "execution_count": 29,
   "id": "09150d6f",
   "metadata": {},
   "outputs": [
    {
     "data": {
      "text/html": [
       "<div>\n",
       "<style scoped>\n",
       "    .dataframe tbody tr th:only-of-type {\n",
       "        vertical-align: middle;\n",
       "    }\n",
       "\n",
       "    .dataframe tbody tr th {\n",
       "        vertical-align: top;\n",
       "    }\n",
       "\n",
       "    .dataframe thead th {\n",
       "        text-align: right;\n",
       "    }\n",
       "</style>\n",
       "<table border=\"1\" class=\"dataframe\">\n",
       "  <thead>\n",
       "    <tr style=\"text-align: right;\">\n",
       "      <th></th>\n",
       "      <th>SUM</th>\n",
       "      <th>MIN</th>\n",
       "      <th>MAX</th>\n",
       "      <th>MEAN</th>\n",
       "      <th>id</th>\n",
       "    </tr>\n",
       "  </thead>\n",
       "  <tbody>\n",
       "    <tr>\n",
       "      <th>0</th>\n",
       "      <td>-1.0</td>\n",
       "      <td>-1.0</td>\n",
       "      <td>-1.0</td>\n",
       "      <td>-1.0</td>\n",
       "      <td>8600504efffffff</td>\n",
       "    </tr>\n",
       "    <tr>\n",
       "      <th>1</th>\n",
       "      <td>-1.0</td>\n",
       "      <td>-1.0</td>\n",
       "      <td>-1.0</td>\n",
       "      <td>-1.0</td>\n",
       "      <td>860172317ffffff</td>\n",
       "    </tr>\n",
       "    <tr>\n",
       "      <th>2</th>\n",
       "      <td>-1.0</td>\n",
       "      <td>-1.0</td>\n",
       "      <td>-1.0</td>\n",
       "      <td>-1.0</td>\n",
       "      <td>86001d0cfffffff</td>\n",
       "    </tr>\n",
       "    <tr>\n",
       "      <th>3</th>\n",
       "      <td>-1.0</td>\n",
       "      <td>-1.0</td>\n",
       "      <td>-1.0</td>\n",
       "      <td>-1.0</td>\n",
       "      <td>8600406b7ffffff</td>\n",
       "    </tr>\n",
       "    <tr>\n",
       "      <th>4</th>\n",
       "      <td>-1.0</td>\n",
       "      <td>-1.0</td>\n",
       "      <td>-1.0</td>\n",
       "      <td>-1.0</td>\n",
       "      <td>86005e6f7ffffff</td>\n",
       "    </tr>\n",
       "  </tbody>\n",
       "</table>\n",
       "</div>"
      ],
      "text/plain": [
       "   SUM  MIN  MAX  MEAN               id\n",
       "0 -1.0 -1.0 -1.0  -1.0  8600504efffffff\n",
       "1 -1.0 -1.0 -1.0  -1.0  860172317ffffff\n",
       "2 -1.0 -1.0 -1.0  -1.0  86001d0cfffffff\n",
       "3 -1.0 -1.0 -1.0  -1.0  8600406b7ffffff\n",
       "4 -1.0 -1.0 -1.0  -1.0  86005e6f7ffffff"
      ]
     },
     "execution_count": 29,
     "metadata": {},
     "output_type": "execute_result"
    }
   ],
   "source": [
    "obj = s3_client.get_object(Bucket=bucket_name, Key=folder_path+'f_0_2020.parquet')\n",
    "body = obj['Body'].read()\n",
    "\n",
    "buffer = io.BytesIO(body)\n",
    "df = pd.read_parquet(buffer)\n",
    "df.head()"
   ]
  },
  {
   "cell_type": "code",
   "execution_count": 30,
   "id": "7f9a0396",
   "metadata": {},
   "outputs": [
    {
     "data": {
      "text/html": [
       "<div>\n",
       "<style scoped>\n",
       "    .dataframe tbody tr th:only-of-type {\n",
       "        vertical-align: middle;\n",
       "    }\n",
       "\n",
       "    .dataframe tbody tr th {\n",
       "        vertical-align: top;\n",
       "    }\n",
       "\n",
       "    .dataframe thead th {\n",
       "        text-align: right;\n",
       "    }\n",
       "</style>\n",
       "<table border=\"1\" class=\"dataframe\">\n",
       "  <thead>\n",
       "    <tr style=\"text-align: right;\">\n",
       "      <th></th>\n",
       "      <th>SUM</th>\n",
       "      <th>MIN</th>\n",
       "      <th>MAX</th>\n",
       "      <th>MEAN</th>\n",
       "      <th>id</th>\n",
       "    </tr>\n",
       "  </thead>\n",
       "  <tbody>\n",
       "    <tr>\n",
       "      <th>16</th>\n",
       "      <td>0.006808</td>\n",
       "      <td>5.537143e-05</td>\n",
       "      <td>0.000070</td>\n",
       "      <td>0.000061</td>\n",
       "      <td>860196107ffffff</td>\n",
       "    </tr>\n",
       "    <tr>\n",
       "      <th>17</th>\n",
       "      <td>0.004956</td>\n",
       "      <td>2.208996e-06</td>\n",
       "      <td>0.000045</td>\n",
       "      <td>0.000034</td>\n",
       "      <td>86019991fffffff</td>\n",
       "    </tr>\n",
       "    <tr>\n",
       "      <th>26</th>\n",
       "      <td>0.000330</td>\n",
       "      <td>4.243886e-07</td>\n",
       "      <td>0.000022</td>\n",
       "      <td>0.000014</td>\n",
       "      <td>8600a2817ffffff</td>\n",
       "    </tr>\n",
       "    <tr>\n",
       "      <th>32</th>\n",
       "      <td>0.008553</td>\n",
       "      <td>3.608915e-05</td>\n",
       "      <td>0.000058</td>\n",
       "      <td>0.000041</td>\n",
       "      <td>86015e7a7ffffff</td>\n",
       "    </tr>\n",
       "    <tr>\n",
       "      <th>43</th>\n",
       "      <td>0.003776</td>\n",
       "      <td>1.950261e-06</td>\n",
       "      <td>0.000048</td>\n",
       "      <td>0.000041</td>\n",
       "      <td>86015e827ffffff</td>\n",
       "    </tr>\n",
       "  </tbody>\n",
       "</table>\n",
       "</div>"
      ],
      "text/plain": [
       "         SUM           MIN       MAX      MEAN               id\n",
       "16  0.006808  5.537143e-05  0.000070  0.000061  860196107ffffff\n",
       "17  0.004956  2.208996e-06  0.000045  0.000034  86019991fffffff\n",
       "26  0.000330  4.243886e-07  0.000022  0.000014  8600a2817ffffff\n",
       "32  0.008553  3.608915e-05  0.000058  0.000041  86015e7a7ffffff\n",
       "43  0.003776  1.950261e-06  0.000048  0.000041  86015e827ffffff"
      ]
     },
     "execution_count": 30,
     "metadata": {},
     "output_type": "execute_result"
    }
   ],
   "source": [
    "filtered_df = df[df['SUM'] > 0]\n",
    "filtered_df.head()"
   ]
  },
  {
   "cell_type": "code",
   "execution_count": 31,
   "id": "6e838b53",
   "metadata": {},
   "outputs": [],
   "source": [
    "def hex_to_point(h):\n",
    "    lat, lng = h3.h3_to_geo(h)\n",
    "    return Point(lng, lat)"
   ]
  },
  {
   "cell_type": "code",
   "execution_count": 35,
   "id": "0523bf54",
   "metadata": {},
   "outputs": [],
   "source": [
    "df['geometry'] = df['id'].apply(hex_to_point)\n",
    "gdf = gpd.GeoDataFrame(df, geometry='geometry')"
   ]
  },
  {
   "cell_type": "markdown",
   "id": "f736c84b",
   "metadata": {},
   "source": [
    "### Open Questions\n",
    "\n",
    "- Should we rename attributes in dataset to `f'{aggregation_method}_{attribute_name}'` to keep the datasets explicit for the case when a dataset has multiple attributes to aggregate and avoid introspection of dataset name for subsequent processing steps?\n",
    "- Should we use another convention `NaN`, or `null` instead of `-1` for no data values when numerical values? What about other types of values?\n",
    "- Should we generate metadata for all the partitions of the each dataset, the eventual combined dataset with all partitions, or should we even wait until we have all the datasets integrated together?"
   ]
  }
 ],
 "metadata": {
  "kernelspec": {
   "display_name": "notebooks-sNYx7QfP-py3.12",
   "language": "python",
   "name": "python3"
  },
  "language_info": {
   "codemirror_mode": {
    "name": "ipython",
    "version": 3
   },
   "file_extension": ".py",
   "mimetype": "text/x-python",
   "name": "python",
   "nbconvert_exporter": "python",
   "pygments_lexer": "ipython3",
   "version": "3.12.3"
  }
 },
 "nbformat": 4,
 "nbformat_minor": 5
}
